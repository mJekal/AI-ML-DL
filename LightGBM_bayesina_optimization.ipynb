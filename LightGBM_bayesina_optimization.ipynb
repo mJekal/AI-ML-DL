{
  "nbformat": 4,
  "nbformat_minor": 0,
  "metadata": {
    "colab": {
      "provenance": [],
      "authorship_tag": "ABX9TyM3TYFrhPBcDup+w9b5OYvI",
      "include_colab_link": true
    },
    "kernelspec": {
      "name": "python3",
      "display_name": "Python 3"
    },
    "language_info": {
      "name": "python"
    }
  },
  "cells": [
    {
      "cell_type": "markdown",
      "metadata": {
        "id": "view-in-github",
        "colab_type": "text"
      },
      "source": [
        "<a href=\"https://colab.research.google.com/github/mJekal/PyTorch_study/blob/main/LightGBM_bayesina_optimization.ipynb\" target=\"_parent\"><img src=\"https://colab.research.google.com/assets/colab-badge.svg\" alt=\"Open In Colab\"/></a>"
      ]
    },
    {
      "cell_type": "markdown",
      "source": [
        "# XGBoost와 LightGBM\n",
        "\n",
        "- Tree기반 Gradient Boosting 방식 알고리즘이 모델 성능의 우수성은 인정되나 학습 시간이 너무 오래 걸리는 문제가 존재\n",
        "- XGBoost는 병렬 학습이 가능하여 기존 방식 보다 학습 시간을 대폭 단축, 하지만 대용량 데이터에 대해서는 학습 시간이 오래 걸림\n",
        "- LightGBM은 학습 시간을 대폭 항샹 시키기 위해 개발된 방식 (Leaf-wise 방식)"
      ],
      "metadata": {
        "id": "RoehIGFirgLQ"
      }
    },
    {
      "cell_type": "markdown",
      "source": [
        "### LightGBM boosting type\n",
        "- gbdt(default)\n",
        "- goss : Gradient 값이 상대적으로 큰 값에 대해서만 선택적으로 필터링하여 반복적으로 재 학습, 수행시간 향상\n",
        "- dart : iteration을 지속적으로 수행하면서 추가적인 트리가 만들어 질 때 마지막에 만들어 지는 트리들이 일부 데이터 세트 조건만을 만족시키기 위해 만들어지는 경우가 발생. 이 트리를 drop out\n",
        "- rt : randomforest\n"
      ],
      "metadata": {
        "id": "ngj7AwsUwqkK"
      }
    },
    {
      "cell_type": "markdown",
      "source": [
        "### LightGBM 하이퍼 파라미터\n",
        "- Num_leaves와 max_depth가 커지기 쉬움 (오버피팅으로 성능 저하 가능성) -> 가장 먼저 고려\n",
        "- n_estimators(num_iterations)\n",
        "- learning_rate(learning_rate)\n",
        "- subsample(bagging_fraction)\n",
        "- colsample_bytree(feature_fraction)\n",
        "- min_child_samples(min_data_in_leeaf)\n",
        "- reg_lambda(lambda_l2)\n",
        "- reg_alpha(lambda_l1)"
      ],
      "metadata": {
        "id": "-d-rB_S5xZ_M"
      }
    },
    {
      "cell_type": "code",
      "source": [
        "!pip install bayesian-optimization"
      ],
      "metadata": {
        "colab": {
          "base_uri": "https://localhost:8080/"
        },
        "id": "4X1XOpXN62eO",
        "outputId": "d805251c-0aeb-49b8-d066-35fca1dc99e3"
      },
      "execution_count": 1,
      "outputs": [
        {
          "output_type": "stream",
          "name": "stdout",
          "text": [
            "Requirement already satisfied: bayesian-optimization in /usr/local/lib/python3.10/dist-packages (1.4.3)\n",
            "Requirement already satisfied: numpy>=1.9.0 in /usr/local/lib/python3.10/dist-packages (from bayesian-optimization) (1.23.5)\n",
            "Requirement already satisfied: scipy>=1.0.0 in /usr/local/lib/python3.10/dist-packages (from bayesian-optimization) (1.11.4)\n",
            "Requirement already satisfied: scikit-learn>=0.18.0 in /usr/local/lib/python3.10/dist-packages (from bayesian-optimization) (1.2.2)\n",
            "Requirement already satisfied: colorama>=0.4.6 in /usr/local/lib/python3.10/dist-packages (from bayesian-optimization) (0.4.6)\n",
            "Requirement already satisfied: joblib>=1.1.1 in /usr/local/lib/python3.10/dist-packages (from scikit-learn>=0.18.0->bayesian-optimization) (1.3.2)\n",
            "Requirement already satisfied: threadpoolctl>=2.0.0 in /usr/local/lib/python3.10/dist-packages (from scikit-learn>=0.18.0->bayesian-optimization) (3.2.0)\n"
          ]
        }
      ]
    },
    {
      "cell_type": "code",
      "execution_count": 2,
      "metadata": {
        "id": "4QQTLs__rfZ0"
      },
      "outputs": [],
      "source": [
        "def black_box_function(x,y):\n",
        "  return -x ** 2- (y-1) ** 2 + 1"
      ]
    },
    {
      "cell_type": "code",
      "source": [
        "pbounds = {'x':(2,4),'y':(-3,3)}"
      ],
      "metadata": {
        "id": "sXzWO8CRsDbg"
      },
      "execution_count": 3,
      "outputs": []
    },
    {
      "cell_type": "code",
      "source": [
        "from bayes_opt import BayesianOptimization\n",
        "\n",
        "optimizer = BayesianOptimization(\n",
        "    f=black_box_function,\n",
        "    pbounds=pbounds,\n",
        "    random_state=1,\n",
        ")\n",
        "\n",
        "optimizer.maximize(\n",
        "    init_points=2,\n",
        "    n_iter=10,\n",
        ")"
      ],
      "metadata": {
        "colab": {
          "base_uri": "https://localhost:8080/"
        },
        "id": "iUPqVmBG6ima",
        "outputId": "9a11a2fc-790c-40e6-b691-466d660a87b6"
      },
      "execution_count": 4,
      "outputs": [
        {
          "output_type": "stream",
          "name": "stdout",
          "text": [
            "|   iter    |  target   |     x     |     y     |\n",
            "-------------------------------------------------\n",
            "| \u001b[0m1        \u001b[0m | \u001b[0m-7.135   \u001b[0m | \u001b[0m2.834    \u001b[0m | \u001b[0m1.322    \u001b[0m |\n",
            "| \u001b[0m2        \u001b[0m | \u001b[0m-7.78    \u001b[0m | \u001b[0m2.0      \u001b[0m | \u001b[0m-1.186   \u001b[0m |\n",
            "| \u001b[95m3        \u001b[0m | \u001b[95m-7.11    \u001b[0m | \u001b[95m2.218    \u001b[0m | \u001b[95m-0.7867  \u001b[0m |\n",
            "| \u001b[0m4        \u001b[0m | \u001b[0m-12.4    \u001b[0m | \u001b[0m3.66     \u001b[0m | \u001b[0m0.9608   \u001b[0m |\n",
            "| \u001b[95m5        \u001b[0m | \u001b[95m-6.999   \u001b[0m | \u001b[95m2.23     \u001b[0m | \u001b[95m-0.7392  \u001b[0m |\n",
            "| \u001b[95m6        \u001b[0m | \u001b[95m-3.047   \u001b[0m | \u001b[95m2.0      \u001b[0m | \u001b[95m0.783    \u001b[0m |\n",
            "| \u001b[0m7        \u001b[0m | \u001b[0m-4.166   \u001b[0m | \u001b[0m2.0      \u001b[0m | \u001b[0m2.08     \u001b[0m |\n",
            "| \u001b[0m8        \u001b[0m | \u001b[0m-31.0    \u001b[0m | \u001b[0m4.0      \u001b[0m | \u001b[0m-3.0     \u001b[0m |\n",
            "| \u001b[0m9        \u001b[0m | \u001b[0m-19.0    \u001b[0m | \u001b[0m4.0      \u001b[0m | \u001b[0m3.0      \u001b[0m |\n",
            "| \u001b[0m10       \u001b[0m | \u001b[0m-3.134   \u001b[0m | \u001b[0m2.0      \u001b[0m | \u001b[0m1.366    \u001b[0m |\n",
            "| \u001b[0m11       \u001b[0m | \u001b[0m-3.456   \u001b[0m | \u001b[0m2.0      \u001b[0m | \u001b[0m0.325    \u001b[0m |\n",
            "| \u001b[95m12       \u001b[0m | \u001b[95m-3.003   \u001b[0m | \u001b[95m2.0      \u001b[0m | \u001b[95m1.051    \u001b[0m |\n",
            "=================================================\n"
          ]
        }
      ]
    }
  ]
}