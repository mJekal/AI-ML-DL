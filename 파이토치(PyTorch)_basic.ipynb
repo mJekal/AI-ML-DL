{
  "nbformat": 4,
  "nbformat_minor": 0,
  "metadata": {
    "colab": {
      "provenance": [],
      "gpuType": "T4",
      "include_colab_link": true
    },
    "kernelspec": {
      "name": "python3",
      "display_name": "Python 3"
    },
    "accelerator": "GPU"
  },
  "cells": [
    {
      "cell_type": "markdown",
      "metadata": {
        "id": "view-in-github",
        "colab_type": "text"
      },
      "source": [
        "<a href=\"https://colab.research.google.com/github/mJekal/pytorch_study/blob/main/%ED%8C%8C%EC%9D%B4%ED%86%A0%EC%B9%98(PyTorch)_basic.ipynb\" target=\"_parent\"><img src=\"https://colab.research.google.com/assets/colab-badge.svg\" alt=\"Open In Colab\"/></a>"
      ]
    },
    {
      "cell_type": "markdown",
      "metadata": {
        "id": "f9Xx-jP92OgP"
      },
      "source": [
        "# 파이토치(PyTorch)\n"
      ]
    },
    {
      "cell_type": "code",
      "metadata": {
        "id": "CmKIvnx0s8G6"
      },
      "source": [
        "import torch"
      ],
      "execution_count": 1,
      "outputs": []
    },
    {
      "cell_type": "markdown",
      "metadata": {
        "id": "gb5O_aSvtHvb"
      },
      "source": [
        "## 텐서(Tensors)\n",
        "\n",
        "* 데이터 표현을 위한 기본 구조로 텐서(tensor)를 사용\n",
        "* 텐서는 데이터를 담기위한 컨테이너(container)로서 일반적으로 수치형 데이터를 저장\n",
        "* 넘파이(NumPy)의 ndarray와 유사\n",
        "* GPU를 사용한 연산 가속 가능"
      ]
    },
    {
      "cell_type": "markdown",
      "source": [
        "### 텐서 초기화"
      ],
      "metadata": {
        "id": "5536ryWCJLFk"
      }
    },
    {
      "cell_type": "code",
      "metadata": {
        "id": "3PqY3cZatU0D",
        "colab": {
          "base_uri": "https://localhost:8080/"
        },
        "outputId": "7d73a3c5-f988-4dad-f7ae-006d381c201f"
      },
      "source": [
        "x = torch.empty(4,2)\n",
        "print(x)"
      ],
      "execution_count": 2,
      "outputs": [
        {
          "output_type": "stream",
          "name": "stdout",
          "text": [
            "tensor([[9.4797e-38, 1.5168e-36],\n",
            "        [1.5404e-36, 1.5169e-36],\n",
            "        [6.4694e-39, 3.0545e-27],\n",
            "        [2.8422e-14, 2.5798e+21]])\n"
          ]
        }
      ]
    },
    {
      "cell_type": "code",
      "metadata": {
        "id": "h6oPj2Q9tdYx",
        "colab": {
          "base_uri": "https://localhost:8080/"
        },
        "outputId": "c0d47eba-cecf-408c-8237-f09c87bc83a0"
      },
      "source": [
        "x = torch.rand(4,2)\n",
        "print(x)"
      ],
      "execution_count": 3,
      "outputs": [
        {
          "output_type": "stream",
          "name": "stdout",
          "text": [
            "tensor([[0.2516, 0.1964],\n",
            "        [0.4378, 0.2425],\n",
            "        [0.6749, 0.8156],\n",
            "        [0.2976, 0.4901]])\n"
          ]
        }
      ]
    },
    {
      "cell_type": "code",
      "metadata": {
        "id": "4zykN8aMthXk",
        "colab": {
          "base_uri": "https://localhost:8080/"
        },
        "outputId": "2cf48f4c-6a28-41e8-8062-0185483e5bf9"
      },
      "source": [
        "x = torch.zeros(4,2,dtype=torch.long)\n",
        "print(x)"
      ],
      "execution_count": 4,
      "outputs": [
        {
          "output_type": "stream",
          "name": "stdout",
          "text": [
            "tensor([[0, 0],\n",
            "        [0, 0],\n",
            "        [0, 0],\n",
            "        [0, 0]])\n"
          ]
        }
      ]
    },
    {
      "cell_type": "code",
      "metadata": {
        "id": "W4VL8C_ctu8b",
        "colab": {
          "base_uri": "https://localhost:8080/"
        },
        "outputId": "9a34bd86-643e-4b5b-d5a2-30126afd34a2"
      },
      "source": [
        "x = torch.tensor([3,2,3])\n",
        "print(x)"
      ],
      "execution_count": 5,
      "outputs": [
        {
          "output_type": "stream",
          "name": "stdout",
          "text": [
            "tensor([3, 2, 3])\n"
          ]
        }
      ]
    },
    {
      "cell_type": "code",
      "metadata": {
        "id": "4RmVBVtIt46M",
        "colab": {
          "base_uri": "https://localhost:8080/"
        },
        "outputId": "406767bf-2b4f-41ac-aee6-b0940021fac2"
      },
      "source": [
        "x = x.new_ones(2, 4,dtype=torch.double)\n",
        "print(x)"
      ],
      "execution_count": 6,
      "outputs": [
        {
          "output_type": "stream",
          "name": "stdout",
          "text": [
            "tensor([[1., 1., 1., 1.],\n",
            "        [1., 1., 1., 1.]], dtype=torch.float64)\n"
          ]
        }
      ]
    },
    {
      "cell_type": "code",
      "metadata": {
        "id": "xxskTUfGuPUe",
        "colab": {
          "base_uri": "https://localhost:8080/"
        },
        "outputId": "3924b54e-a15e-44c5-be99-d45e60a26990"
      },
      "source": [
        "x = torch.randn_like(x,dtype=torch.float)\n",
        "print(x)"
      ],
      "execution_count": 7,
      "outputs": [
        {
          "output_type": "stream",
          "name": "stdout",
          "text": [
            "tensor([[ 0.8463, -1.3470,  0.9565, -0.0933],\n",
            "        [ 0.0398, -0.2596,  0.4646, -0.4456]])\n"
          ]
        }
      ]
    },
    {
      "cell_type": "markdown",
      "metadata": {
        "id": "7j5sGxGvucpH"
      },
      "source": [
        "텐서의 크기 계산"
      ]
    },
    {
      "cell_type": "code",
      "metadata": {
        "id": "yy-JbqKEuYIR",
        "colab": {
          "base_uri": "https://localhost:8080/"
        },
        "outputId": "7a03c002-78a1-4af3-bec8-425fe9663019"
      },
      "source": [
        "print(x.size())"
      ],
      "execution_count": 8,
      "outputs": [
        {
          "output_type": "stream",
          "name": "stdout",
          "text": [
            "torch.Size([2, 4])\n"
          ]
        }
      ]
    },
    {
      "cell_type": "markdown",
      "source": [
        "### 데이터 타입(Data Type)"
      ],
      "metadata": {
        "id": "3P2FbRqbFSks"
      }
    },
    {
      "cell_type": "code",
      "source": [
        "ft = torch.FloatTensor([1,2,3])\n",
        "print(ft)\n",
        "print(ft.dtype)"
      ],
      "metadata": {
        "id": "K-tmT3EZFSM5",
        "colab": {
          "base_uri": "https://localhost:8080/"
        },
        "outputId": "02e762d1-84b5-4f1b-bb41-62909d280c1e"
      },
      "execution_count": 9,
      "outputs": [
        {
          "output_type": "stream",
          "name": "stdout",
          "text": [
            "tensor([1., 2., 3.])\n",
            "torch.float32\n"
          ]
        }
      ]
    },
    {
      "cell_type": "code",
      "source": [
        "print(ft.short())\n",
        "print(ft.int())\n",
        "print(ft.long())"
      ],
      "metadata": {
        "id": "bhsaSQW-NrB2",
        "colab": {
          "base_uri": "https://localhost:8080/"
        },
        "outputId": "d01c42c9-a51e-43cc-c400-7bd4fa9618e4"
      },
      "execution_count": 10,
      "outputs": [
        {
          "output_type": "stream",
          "name": "stdout",
          "text": [
            "tensor([1, 2, 3], dtype=torch.int16)\n",
            "tensor([1, 2, 3], dtype=torch.int32)\n",
            "tensor([1, 2, 3])\n"
          ]
        }
      ]
    },
    {
      "cell_type": "code",
      "source": [
        "it = torch.IntTensor([1,2,3])\n",
        "print(it)\n",
        "print(it.dtype)"
      ],
      "metadata": {
        "id": "TPQI3gc5OmBe",
        "colab": {
          "base_uri": "https://localhost:8080/"
        },
        "outputId": "6988f932-ace6-48ed-ab81-7a6314813956"
      },
      "execution_count": 11,
      "outputs": [
        {
          "output_type": "stream",
          "name": "stdout",
          "text": [
            "tensor([1, 2, 3], dtype=torch.int32)\n",
            "torch.int32\n"
          ]
        }
      ]
    },
    {
      "cell_type": "code",
      "source": [
        "print(it.float())\n",
        "print(it.double())\n",
        "print(it.half())"
      ],
      "metadata": {
        "id": "pw4nZakdPAR-",
        "colab": {
          "base_uri": "https://localhost:8080/"
        },
        "outputId": "612636b5-10e6-4fdc-cd00-c76abb08b554"
      },
      "execution_count": 12,
      "outputs": [
        {
          "output_type": "stream",
          "name": "stdout",
          "text": [
            "tensor([1., 2., 3.])\n",
            "tensor([1., 2., 3.], dtype=torch.float64)\n",
            "tensor([1., 2., 3.], dtype=torch.float16)\n"
          ]
        }
      ]
    },
    {
      "cell_type": "markdown",
      "metadata": {
        "id": "v-ZaxSvLxEej"
      },
      "source": [
        "### CUDA Tensors\n",
        "\n",
        "- `.to` 메소드를 사용하여 텐서를 어떠한 장치(cpu, gpu)로도 옮길 수 있음"
      ]
    },
    {
      "cell_type": "code",
      "metadata": {
        "id": "SCnC0x2Rxpbk",
        "colab": {
          "base_uri": "https://localhost:8080/"
        },
        "outputId": "6333b281-baa8-4de6-868f-b71b46e9fc82"
      },
      "source": [
        "x = torch.randn(1)\n",
        "print(x)\n",
        "print(x.item())\n",
        "print(x.dtype)"
      ],
      "execution_count": 13,
      "outputs": [
        {
          "output_type": "stream",
          "name": "stdout",
          "text": [
            "tensor([1.5284])\n",
            "1.5284029245376587\n",
            "torch.float32\n"
          ]
        }
      ]
    },
    {
      "cell_type": "code",
      "metadata": {
        "id": "GcSsFLkDw-nI",
        "colab": {
          "base_uri": "https://localhost:8080/"
        },
        "outputId": "3a768388-8e58-4a85-d0b7-a8b768522aa1"
      },
      "source": [
        "device = torch.device('cuda' if torch.cuda.is_available()else'cpu')\n",
        "print(device)\n",
        "y = torch.ones_like(x,device=device)\n",
        "print(y)\n",
        "x=x.to(device)\n",
        "z = x + y\n",
        "print(z)\n",
        "print(z.to('cpu',torch.double))"
      ],
      "execution_count": 14,
      "outputs": [
        {
          "output_type": "stream",
          "name": "stdout",
          "text": [
            "cuda\n",
            "tensor([1.], device='cuda:0')\n",
            "tensor([2.5284], device='cuda:0')\n",
            "tensor([2.5284], dtype=torch.float64)\n"
          ]
        }
      ]
    },
    {
      "cell_type": "markdown",
      "source": [
        "### 다차원 텐서 표현"
      ],
      "metadata": {
        "id": "E3bfPFZIV4aj"
      }
    },
    {
      "cell_type": "markdown",
      "source": [
        "0D Tensor(Scalar)\n",
        "\n",
        "* 하나의 숫자를 담고 있는 텐서(tensor)\n",
        "* 축과 형상이 없음"
      ],
      "metadata": {
        "id": "EQRQbW2QGdnX"
      }
    },
    {
      "cell_type": "code",
      "source": [
        "t0 = torch.tensor(0)\n",
        "print(t0.ndim)\n",
        "print(t0.shape)\n",
        "print(t0)"
      ],
      "metadata": {
        "id": "cWxkCkqwGgpU",
        "colab": {
          "base_uri": "https://localhost:8080/"
        },
        "outputId": "5ed95085-2bf4-4f37-d978-394bdf6b52de"
      },
      "execution_count": 15,
      "outputs": [
        {
          "output_type": "stream",
          "name": "stdout",
          "text": [
            "0\n",
            "torch.Size([])\n",
            "tensor(0)\n"
          ]
        }
      ]
    },
    {
      "cell_type": "markdown",
      "source": [
        "1D Tensor(Vector)\n",
        "\n",
        "* 값들을 저장한 리스트와 유사한 텐서\n",
        "* 하나의 축이 존재"
      ],
      "metadata": {
        "id": "IYsTz-1AG3Mb"
      }
    },
    {
      "cell_type": "code",
      "source": [
        "t1 = torch.tensor([1,2,3])\n",
        "print(t1.ndim)\n",
        "print(t1.shape)\n",
        "print(t1)"
      ],
      "metadata": {
        "id": "CYECTmxJG45C",
        "colab": {
          "base_uri": "https://localhost:8080/"
        },
        "outputId": "3e424c93-0e98-4dda-8275-ad51f49e3eda"
      },
      "execution_count": 16,
      "outputs": [
        {
          "output_type": "stream",
          "name": "stdout",
          "text": [
            "1\n",
            "torch.Size([3])\n",
            "tensor([1, 2, 3])\n"
          ]
        }
      ]
    },
    {
      "cell_type": "markdown",
      "source": [
        "2D Tensor(Matrix)\n",
        "\n",
        "* 행렬과 같은 모양으로 두개의 축이 존재\n",
        "* 일반적인 수치, 통계 데이터셋이 해당\n",
        "* 주로 샘플(samples)과 특성(features)을 가진 구조로 사용"
      ],
      "metadata": {
        "id": "WTjPrjjQITQe"
      }
    },
    {
      "cell_type": "code",
      "source": [
        "t2 = torch.tensor([[1,2,3],\n",
        "                   [4,5,6],\n",
        "                   [7,8,9]])\n",
        "print(t2.ndim)\n",
        "print(t2.shape)\n",
        "print(t2)"
      ],
      "metadata": {
        "id": "vXnrqjqJIXEG",
        "colab": {
          "base_uri": "https://localhost:8080/"
        },
        "outputId": "31b4d4d2-9f4e-4191-ea6c-1da8679462a1"
      },
      "execution_count": 17,
      "outputs": [
        {
          "output_type": "stream",
          "name": "stdout",
          "text": [
            "2\n",
            "torch.Size([3, 3])\n",
            "tensor([[1, 2, 3],\n",
            "        [4, 5, 6],\n",
            "        [7, 8, 9]])\n"
          ]
        }
      ]
    },
    {
      "cell_type": "markdown",
      "source": [
        "3D Tensor\n",
        "\n",
        "* 큐브(cube)와 같은 모양으로 세개의 축이 존재\n",
        "* 데이터가 연속된 시퀀스 데이터나 시간 축이 포함된 시계열 데이터에 해당\n",
        "* 주식 가격 데이터셋, 시간에 따른 질병 발병 데이터 등이 존재\n",
        "* 주로 샘플(samples), 타임스텝(timesteps), 특성(features)을 가진 구조로 사용"
      ],
      "metadata": {
        "id": "s3iwkNVBIxYE"
      }
    },
    {
      "cell_type": "code",
      "source": [
        "t3 = torch.tensor([[[1,2,3],\n",
        "                    [4,5,6],\n",
        "                    [7,8,9]],\n",
        "                   [[1,2,3],\n",
        "                    [4,5,6],\n",
        "                    [7,8,9]],\n",
        "                   [[1,2,3],\n",
        "                    [4,5,6],\n",
        "                    [7,8,9]]])\n",
        "print(t3.ndim)\n",
        "print(t3.shape)\n",
        "print(t3)"
      ],
      "metadata": {
        "id": "n_82nuaxI1Pk",
        "colab": {
          "base_uri": "https://localhost:8080/"
        },
        "outputId": "49f12b62-e04e-40b1-ec7a-4461ad8718da"
      },
      "execution_count": 18,
      "outputs": [
        {
          "output_type": "stream",
          "name": "stdout",
          "text": [
            "3\n",
            "torch.Size([3, 3, 3])\n",
            "tensor([[[1, 2, 3],\n",
            "         [4, 5, 6],\n",
            "         [7, 8, 9]],\n",
            "\n",
            "        [[1, 2, 3],\n",
            "         [4, 5, 6],\n",
            "         [7, 8, 9]],\n",
            "\n",
            "        [[1, 2, 3],\n",
            "         [4, 5, 6],\n",
            "         [7, 8, 9]]])\n"
          ]
        }
      ]
    },
    {
      "cell_type": "markdown",
      "metadata": {
        "id": "iO4r7sEsW1Hp"
      },
      "source": [
        "4D Tensor\n",
        "\n",
        "* 4개의 축\n",
        "* 컬러 이미지 데이터가 대표적인 사례 (흑백 이미지 데이터는 3D Tensor로 가능)\n",
        "* 주로 샘플(samples), 높이(height), 너비(width), 컬러 채널(channel)을 가진 구조로 사용"
      ]
    },
    {
      "cell_type": "markdown",
      "metadata": {
        "id": "Z_h3p7eEXJMl"
      },
      "source": [
        "5D Tensor\n",
        "\n",
        "* 5개의 축\n",
        "* 비디오 데이터가 대표적인 사례\n",
        "* 주로 샘플(samples), 프레임(frames), 높이(height), 너비(width), 컬러 채널(channel)을 가진 구조로 사용"
      ]
    },
    {
      "cell_type": "markdown",
      "metadata": {
        "id": "ehOg0eDwufru"
      },
      "source": [
        "### 텐서의 연산(Operations)"
      ]
    },
    {
      "cell_type": "code",
      "source": [
        "import math\n",
        "\n",
        "a = torch.rand(1,2) * 2 - 1\n",
        "print(a)\n",
        "print(torch.abs(a))\n",
        "print(torch.ceil(a))\n",
        "print(torch.floor(a))\n",
        "print(torch.clamp(a,-0.5,0.5))\n"
      ],
      "metadata": {
        "id": "K_fkPc-NytKI",
        "colab": {
          "base_uri": "https://localhost:8080/"
        },
        "outputId": "26f2e2d5-20ce-4fb2-9957-a71ba2c1dc92"
      },
      "execution_count": 19,
      "outputs": [
        {
          "output_type": "stream",
          "name": "stdout",
          "text": [
            "tensor([[-0.0435, -0.7799]])\n",
            "tensor([[0.0435, 0.7799]])\n",
            "tensor([[-0., -0.]])\n",
            "tensor([[-1., -1.]])\n",
            "tensor([[-0.0435, -0.5000]])\n"
          ]
        }
      ]
    },
    {
      "cell_type": "code",
      "source": [
        "print(a)\n",
        "print(torch.min(a))\n",
        "print(torch.max(a))\n",
        "print(torch.mean(a))\n",
        "print(torch.std(a))\n",
        "print(torch.prod(a))\n",
        "print(torch.unique(torch.tensor([1, 2, 3, 1 , 2, 3])))"
      ],
      "metadata": {
        "id": "22pWRD4o1hv5",
        "colab": {
          "base_uri": "https://localhost:8080/"
        },
        "outputId": "c1f91759-2b93-42c4-9119-5618f81669c0"
      },
      "execution_count": 20,
      "outputs": [
        {
          "output_type": "stream",
          "name": "stdout",
          "text": [
            "tensor([[-0.0435, -0.7799]])\n",
            "tensor(-0.7799)\n",
            "tensor(-0.0435)\n",
            "tensor(-0.4117)\n",
            "tensor(0.5207)\n",
            "tensor(0.0339)\n",
            "tensor([1, 2, 3])\n"
          ]
        }
      ]
    },
    {
      "cell_type": "markdown",
      "source": [
        "\n",
        "\n",
        "\n",
        "`max`와 `min`은 `dim` 인자를 줄 경우 argmax와 argmin도 함께 리턴\n",
        "- argmax: 최대값을 가진 인덱스\n",
        "- argmin: 최소값을 가진 인덱스\n",
        "\n"
      ],
      "metadata": {
        "id": "jOgoWFhe80rq"
      }
    },
    {
      "cell_type": "code",
      "source": [
        "x = torch.rand(2,2)\n",
        "print(x)\n",
        "print(x.max(dim=0))\n",
        "print(x.max(dim=1))\n"
      ],
      "metadata": {
        "id": "5rfjipRG_qFc",
        "colab": {
          "base_uri": "https://localhost:8080/"
        },
        "outputId": "935969a3-25a3-4604-f1af-50df96ab14f7"
      },
      "execution_count": 21,
      "outputs": [
        {
          "output_type": "stream",
          "name": "stdout",
          "text": [
            "tensor([[0.5245, 0.9790],\n",
            "        [0.2538, 0.4546]])\n",
            "torch.return_types.max(\n",
            "values=tensor([0.5245, 0.9790]),\n",
            "indices=tensor([0, 0]))\n",
            "torch.return_types.max(\n",
            "values=tensor([0.9790, 0.4546]),\n",
            "indices=tensor([1, 1]))\n"
          ]
        }
      ]
    },
    {
      "cell_type": "code",
      "source": [
        "print(x)\n",
        "print(x.min(dim=0))\n",
        "print(x.min(dim=1))"
      ],
      "metadata": {
        "id": "NulyXzpXAgSk",
        "colab": {
          "base_uri": "https://localhost:8080/"
        },
        "outputId": "c432ac8d-244d-4421-cb7c-35ff95087705"
      },
      "execution_count": 22,
      "outputs": [
        {
          "output_type": "stream",
          "name": "stdout",
          "text": [
            "tensor([[0.5245, 0.9790],\n",
            "        [0.2538, 0.4546]])\n",
            "torch.return_types.min(\n",
            "values=tensor([0.2538, 0.4546]),\n",
            "indices=tensor([1, 1]))\n",
            "torch.return_types.min(\n",
            "values=tensor([0.5245, 0.2538]),\n",
            "indices=tensor([0, 0]))\n"
          ]
        }
      ]
    },
    {
      "cell_type": "code",
      "metadata": {
        "id": "Rw4JCYkYuef9",
        "colab": {
          "base_uri": "https://localhost:8080/"
        },
        "outputId": "80d5be30-0e78-4290-b84d-8406bd6dc04a"
      },
      "source": [
        "x = torch.rand(2,2)\n",
        "print(x)\n",
        "y = torch.rand(2,2)\n",
        "print(y)"
      ],
      "execution_count": 23,
      "outputs": [
        {
          "output_type": "stream",
          "name": "stdout",
          "text": [
            "tensor([[0.6896, 0.4903],\n",
            "        [0.0452, 0.2327]])\n",
            "tensor([[0.5092, 0.1579],\n",
            "        [0.9570, 0.7652]])\n"
          ]
        }
      ]
    },
    {
      "cell_type": "markdown",
      "source": [
        "`torch.add`: 덧셈"
      ],
      "metadata": {
        "id": "vMl_SShv4B12"
      }
    },
    {
      "cell_type": "code",
      "source": [
        "print(x + y)\n",
        "print(torch.add(x,y))"
      ],
      "metadata": {
        "id": "oMTIQGqPTlxT",
        "colab": {
          "base_uri": "https://localhost:8080/"
        },
        "outputId": "0d45b3ed-56fb-4c20-f07d-c460c1592cf9"
      },
      "execution_count": 24,
      "outputs": [
        {
          "output_type": "stream",
          "name": "stdout",
          "text": [
            "tensor([[1.1988, 0.6481],\n",
            "        [1.0022, 0.9979]])\n",
            "tensor([[1.1988, 0.6481],\n",
            "        [1.0022, 0.9979]])\n"
          ]
        }
      ]
    },
    {
      "cell_type": "markdown",
      "metadata": {
        "id": "RlvrQhLuuuIr"
      },
      "source": [
        "결과 텐서를 인자로 제공"
      ]
    },
    {
      "cell_type": "code",
      "metadata": {
        "id": "lUsLAOTcur1-",
        "colab": {
          "base_uri": "https://localhost:8080/"
        },
        "outputId": "3e856e8c-34a2-44c5-e625-a601e3f5156a"
      },
      "source": [
        "result = torch.empty(2, 4)\n",
        "torch.add(x, y, out=result)\n",
        "print(result)"
      ],
      "execution_count": 25,
      "outputs": [
        {
          "output_type": "stream",
          "name": "stdout",
          "text": [
            "tensor([[1.1988, 0.6481],\n",
            "        [1.0022, 0.9979]])\n"
          ]
        },
        {
          "output_type": "stream",
          "name": "stderr",
          "text": [
            "<ipython-input-25-8c3c98e3bad2>:2: UserWarning: An output with one or more elements was resized since it had shape [2, 4], which does not match the required output shape [2, 2]. This behavior is deprecated, and in a future PyTorch release outputs will not be resized unless they have zero elements. You can explicitly reuse an out tensor t by resizing it, inplace, to zero elements with t.resize_(0). (Triggered internally at ../aten/src/ATen/native/Resize.cpp:28.)\n",
            "  torch.add(x, y, out=result)\n"
          ]
        }
      ]
    },
    {
      "cell_type": "markdown",
      "metadata": {
        "id": "V6BdyZFSu2Ei"
      },
      "source": [
        "`in-place` 방식\n",
        "  - in-place방식으로 텐서의 값을 변경하는 연산 뒤에는 _''가 붙음\n",
        "  - `x.copy_(y), x.t_()`"
      ]
    },
    {
      "cell_type": "code",
      "metadata": {
        "id": "lu8rR4WVu0wQ",
        "colab": {
          "base_uri": "https://localhost:8080/"
        },
        "outputId": "55124252-bfd1-4fac-d025-77d9e6632031"
      },
      "source": [
        "print(x)\n",
        "print(y)\n",
        "y.add_(x)\n",
        "print(y)"
      ],
      "execution_count": 26,
      "outputs": [
        {
          "output_type": "stream",
          "name": "stdout",
          "text": [
            "tensor([[0.6896, 0.4903],\n",
            "        [0.0452, 0.2327]])\n",
            "tensor([[0.5092, 0.1579],\n",
            "        [0.9570, 0.7652]])\n",
            "tensor([[1.1988, 0.6481],\n",
            "        [1.0022, 0.9979]])\n"
          ]
        }
      ]
    },
    {
      "cell_type": "markdown",
      "metadata": {
        "id": "Uo8nsrGjOw6W"
      },
      "source": [
        "`torch.sub`: 뺄셈"
      ]
    },
    {
      "cell_type": "code",
      "metadata": {
        "id": "S51kxzPTO1ER",
        "colab": {
          "base_uri": "https://localhost:8080/"
        },
        "outputId": "c4c52840-d2f7-4a61-aff3-23cfd2b6518b"
      },
      "source": [
        "print(x)\n",
        "print(y)\n",
        "print(x-y)\n",
        "print(torch.sub(x,y))\n",
        "print(x.sub(y))"
      ],
      "execution_count": 27,
      "outputs": [
        {
          "output_type": "stream",
          "name": "stdout",
          "text": [
            "tensor([[0.6896, 0.4903],\n",
            "        [0.0452, 0.2327]])\n",
            "tensor([[1.1988, 0.6481],\n",
            "        [1.0022, 0.9979]])\n",
            "tensor([[-0.5092, -0.1579],\n",
            "        [-0.9570, -0.7652]])\n",
            "tensor([[-0.5092, -0.1579],\n",
            "        [-0.9570, -0.7652]])\n",
            "tensor([[-0.5092, -0.1579],\n",
            "        [-0.9570, -0.7652]])\n"
          ]
        }
      ]
    },
    {
      "cell_type": "markdown",
      "source": [
        "`torch.mul`: 곱셉"
      ],
      "metadata": {
        "id": "1UYQ4mAd3KCy"
      }
    },
    {
      "cell_type": "code",
      "metadata": {
        "id": "ou0dY8mkPR24",
        "colab": {
          "base_uri": "https://localhost:8080/"
        },
        "outputId": "61de27dd-8055-469c-be17-9d73bc0ccd22"
      },
      "source": [
        "print(x)\n",
        "print(y)\n",
        "print(x*y)\n",
        "print(torch.mul(x,y))\n",
        "print(x.mul(y))"
      ],
      "execution_count": 28,
      "outputs": [
        {
          "output_type": "stream",
          "name": "stdout",
          "text": [
            "tensor([[0.6896, 0.4903],\n",
            "        [0.0452, 0.2327]])\n",
            "tensor([[1.1988, 0.6481],\n",
            "        [1.0022, 0.9979]])\n",
            "tensor([[0.8267, 0.3178],\n",
            "        [0.0453, 0.2322]])\n",
            "tensor([[0.8267, 0.3178],\n",
            "        [0.0453, 0.2322]])\n",
            "tensor([[0.8267, 0.3178],\n",
            "        [0.0453, 0.2322]])\n"
          ]
        }
      ]
    },
    {
      "cell_type": "markdown",
      "source": [
        "`torch.div`: 나눗셈"
      ],
      "metadata": {
        "id": "nxuoomj23L2W"
      }
    },
    {
      "cell_type": "code",
      "metadata": {
        "id": "6RlZZBp3PbE4",
        "colab": {
          "base_uri": "https://localhost:8080/"
        },
        "outputId": "d1d911e6-fe54-409a-e765-2eba3aaaf548"
      },
      "source": [
        "print(x)\n",
        "print(y)\n",
        "print(x/y)\n",
        "print(torch.div(x,y))\n",
        "print(x.div(y))"
      ],
      "execution_count": 29,
      "outputs": [
        {
          "output_type": "stream",
          "name": "stdout",
          "text": [
            "tensor([[0.6896, 0.4903],\n",
            "        [0.0452, 0.2327]])\n",
            "tensor([[1.1988, 0.6481],\n",
            "        [1.0022, 0.9979]])\n",
            "tensor([[0.5752, 0.7564],\n",
            "        [0.0451, 0.2332]])\n",
            "tensor([[0.5752, 0.7564],\n",
            "        [0.0451, 0.2332]])\n",
            "tensor([[0.5752, 0.7564],\n",
            "        [0.0451, 0.2332]])\n"
          ]
        }
      ]
    },
    {
      "cell_type": "markdown",
      "source": [
        "`torch.mm`: 내적(dot product)"
      ],
      "metadata": {
        "id": "ceHBHlMP3NXm"
      }
    },
    {
      "cell_type": "code",
      "metadata": {
        "id": "7MR-ofE5P7VC",
        "colab": {
          "base_uri": "https://localhost:8080/"
        },
        "outputId": "292c9186-c07c-49b2-9715-84eae002e2c4"
      },
      "source": [
        "print(x)\n",
        "print(y)\n",
        "print(torch.matmul(x,y))\n",
        "z=torch.mm(x,y)\n",
        "print(z)\n",
        "print(torch.svd(z))"
      ],
      "execution_count": 30,
      "outputs": [
        {
          "output_type": "stream",
          "name": "stdout",
          "text": [
            "tensor([[0.6896, 0.4903],\n",
            "        [0.0452, 0.2327]])\n",
            "tensor([[1.1988, 0.6481],\n",
            "        [1.0022, 0.9979]])\n",
            "tensor([[1.3180, 0.9362],\n",
            "        [0.2874, 0.2615]])\n",
            "tensor([[1.3180, 0.9362],\n",
            "        [0.2874, 0.2615]])\n",
            "torch.return_types.svd(\n",
            "U=tensor([[-0.9727, -0.2323],\n",
            "        [-0.2323,  0.9727]]),\n",
            "S=tensor([1.6621, 0.0455]),\n",
            "V=tensor([[-0.8115, -0.5844],\n",
            "        [-0.5844,  0.8115]]))\n"
          ]
        }
      ]
    },
    {
      "cell_type": "markdown",
      "metadata": {
        "id": "8URGwHE_NjDi"
      },
      "source": [
        "### 텐서의 조작(Manipulations)"
      ]
    },
    {
      "cell_type": "markdown",
      "metadata": {
        "id": "uCsdZIPTvG53"
      },
      "source": [
        "인덱싱(Indexing): NumPy처럼 인덱싱 형태로 사용가능"
      ]
    },
    {
      "cell_type": "code",
      "metadata": {
        "id": "jF2DE8kzvOs3",
        "colab": {
          "base_uri": "https://localhost:8080/"
        },
        "outputId": "93bfedba-adc7-43b5-912b-a50f0651ad69"
      },
      "source": [
        "x = torch.Tensor([[1, 2],\n",
        "                  [3,4]])\n",
        "print(x)\n",
        "\n",
        "print(x[0, 0])\n",
        "print(x[0, 1])\n",
        "print(x[1, 0])\n",
        "print(x[1, 1])\n",
        "\n",
        "print(x[:, 0])\n",
        "print(x[:, 1])\n",
        "print(x[0, :])\n",
        "print(x[1,: ])\n",
        "\n"
      ],
      "execution_count": 31,
      "outputs": [
        {
          "output_type": "stream",
          "name": "stdout",
          "text": [
            "tensor([[1., 2.],\n",
            "        [3., 4.]])\n",
            "tensor(1.)\n",
            "tensor(2.)\n",
            "tensor(3.)\n",
            "tensor(4.)\n",
            "tensor([1., 3.])\n",
            "tensor([2., 4.])\n",
            "tensor([1., 2.])\n",
            "tensor([3., 4.])\n"
          ]
        }
      ]
    },
    {
      "cell_type": "markdown",
      "metadata": {
        "id": "jEscXddKvQ5l"
      },
      "source": [
        "`view`: 텐서의 크기(size)나 모양(shape)을 변경\n",
        "\n",
        "- 기본적으로 변경 전과 후에 텐서 안의 원소 개수가 유지되어야 함\n",
        "- -1로 설정되면 계산을 통해 해당 크기값을 유추"
      ]
    },
    {
      "cell_type": "code",
      "metadata": {
        "id": "xwhWeqhLvKKj",
        "colab": {
          "base_uri": "https://localhost:8080/"
        },
        "outputId": "ce43d55a-15aa-42c8-a69c-21612ea5fdf8"
      },
      "source": [
        "x = torch.randn(4, 5)\n",
        "print(x)\n",
        "y = x.view(20)\n",
        "print(y)\n",
        "z = x.view(5, -1)\n",
        "print(z)"
      ],
      "execution_count": 32,
      "outputs": [
        {
          "output_type": "stream",
          "name": "stdout",
          "text": [
            "tensor([[ 0.2155, -0.2827, -0.2746, -0.8454, -0.6807],\n",
            "        [ 0.9392, -1.4039, -1.2889, -0.6477, -0.5275],\n",
            "        [-0.3608,  0.4158,  1.2213, -0.5253, -0.0968],\n",
            "        [ 0.0806,  0.7921,  0.4558,  0.5205,  0.0763]])\n",
            "tensor([ 0.2155, -0.2827, -0.2746, -0.8454, -0.6807,  0.9392, -1.4039, -1.2889,\n",
            "        -0.6477, -0.5275, -0.3608,  0.4158,  1.2213, -0.5253, -0.0968,  0.0806,\n",
            "         0.7921,  0.4558,  0.5205,  0.0763])\n",
            "tensor([[ 0.2155, -0.2827, -0.2746, -0.8454],\n",
            "        [-0.6807,  0.9392, -1.4039, -1.2889],\n",
            "        [-0.6477, -0.5275, -0.3608,  0.4158],\n",
            "        [ 1.2213, -0.5253, -0.0968,  0.0806],\n",
            "        [ 0.7921,  0.4558,  0.5205,  0.0763]])\n"
          ]
        }
      ]
    },
    {
      "cell_type": "markdown",
      "metadata": {
        "id": "iBY_wuIRvf5j"
      },
      "source": [
        "`item`: 텐서에 값이 단 하나라도 존재하면 숫자값을 얻을 수 있음\n"
      ]
    },
    {
      "cell_type": "code",
      "metadata": {
        "id": "E0W24QqpvcmV",
        "colab": {
          "base_uri": "https://localhost:8080/"
        },
        "outputId": "40d008c3-a650-47c2-e03d-7005cc3a3736"
      },
      "source": [
        "x = torch.randn(1)\n",
        "print(x)\n",
        "print(x.item())\n",
        "print(x.dtype)"
      ],
      "execution_count": 33,
      "outputs": [
        {
          "output_type": "stream",
          "name": "stdout",
          "text": [
            "tensor([-0.8475])\n",
            "-0.8474830985069275\n",
            "torch.float32\n"
          ]
        }
      ]
    },
    {
      "cell_type": "markdown",
      "metadata": {
        "id": "V1sCUVwC3Nua"
      },
      "source": [
        "\n",
        "\n",
        "스칼라값 하나만 존재해야 `item()` 사용 가능"
      ]
    },
    {
      "cell_type": "code",
      "metadata": {
        "id": "jl4_FAgd3Lt9",
        "colab": {
          "base_uri": "https://localhost:8080/"
        },
        "outputId": "51ee6c8b-85a4-46dd-e6e1-542d37ee4d73"
      },
      "source": [
        "x = torch.randn(2)\n",
        "print(x)\n",
        "# print(x.item())  스칼라값 하나만 존재해야 item() 사용 가능\n",
        "print(x.dtype)"
      ],
      "execution_count": 34,
      "outputs": [
        {
          "output_type": "stream",
          "name": "stdout",
          "text": [
            "tensor([ 0.1438, -0.6070])\n",
            "torch.float32\n"
          ]
        }
      ]
    },
    {
      "cell_type": "markdown",
      "metadata": {
        "id": "uThndsy5M6wM"
      },
      "source": [
        "`squeeze`: 차원을 축소(제거)"
      ]
    },
    {
      "cell_type": "code",
      "metadata": {
        "id": "OF3rOavnRxgM",
        "colab": {
          "base_uri": "https://localhost:8080/"
        },
        "outputId": "bc3e04b9-98eb-48a7-8f32-a068df662328"
      },
      "source": [
        "tensor = torch.rand(1,3,3)\n",
        "print(tensor)\n",
        "print(tensor.shape)"
      ],
      "execution_count": 35,
      "outputs": [
        {
          "output_type": "stream",
          "name": "stdout",
          "text": [
            "tensor([[[0.7137, 0.8942, 0.1718],\n",
            "         [0.2901, 0.0279, 0.4012],\n",
            "         [0.7616, 0.6547, 0.6924]]])\n",
            "torch.Size([1, 3, 3])\n"
          ]
        }
      ]
    },
    {
      "cell_type": "code",
      "metadata": {
        "id": "Y2jq0jHJR5Jw",
        "colab": {
          "base_uri": "https://localhost:8080/"
        },
        "outputId": "98873134-8bdd-40fe-f2ac-add8f3091b4c"
      },
      "source": [
        "t = tensor.squeeze()\n",
        "print(t)\n",
        "print(t.shape)"
      ],
      "execution_count": 36,
      "outputs": [
        {
          "output_type": "stream",
          "name": "stdout",
          "text": [
            "tensor([[0.7137, 0.8942, 0.1718],\n",
            "        [0.2901, 0.0279, 0.4012],\n",
            "        [0.7616, 0.6547, 0.6924]])\n",
            "torch.Size([3, 3])\n"
          ]
        }
      ]
    },
    {
      "cell_type": "markdown",
      "metadata": {
        "id": "COv-dnTYNJ8Z"
      },
      "source": [
        "`unsqueeze`: 차원을 증가(생성)"
      ]
    },
    {
      "cell_type": "code",
      "metadata": {
        "id": "PFxaHGY1NOBo",
        "colab": {
          "base_uri": "https://localhost:8080/"
        },
        "outputId": "a178ea52-71a9-438f-c00c-3eb3b9ee6e1f"
      },
      "source": [
        "t = torch.randn(3,3)\n",
        "print(t)\n",
        "print(t.shape)"
      ],
      "execution_count": 37,
      "outputs": [
        {
          "output_type": "stream",
          "name": "stdout",
          "text": [
            "tensor([[ 1.3216,  1.6874, -0.2261],\n",
            "        [-1.0417,  0.2385,  1.2379],\n",
            "        [-1.0817,  0.7345,  0.1175]])\n",
            "torch.Size([3, 3])\n"
          ]
        }
      ]
    },
    {
      "cell_type": "code",
      "metadata": {
        "id": "b6sa4tJ7SA8G",
        "colab": {
          "base_uri": "https://localhost:8080/"
        },
        "outputId": "d6981151-ca33-4192-e7d2-0ce7697519c8"
      },
      "source": [
        "tensor = t.unsqueeze(dim=0)\n",
        "print(tensor)\n",
        "print(tensor.shape)"
      ],
      "execution_count": 38,
      "outputs": [
        {
          "output_type": "stream",
          "name": "stdout",
          "text": [
            "tensor([[[ 1.3216,  1.6874, -0.2261],\n",
            "         [-1.0417,  0.2385,  1.2379],\n",
            "         [-1.0817,  0.7345,  0.1175]]])\n",
            "torch.Size([1, 3, 3])\n"
          ]
        }
      ]
    },
    {
      "cell_type": "code",
      "source": [
        "tensor = t.unsqueeze(dim=2)\n",
        "print(tensor)\n",
        "print(tensor.shape)"
      ],
      "metadata": {
        "id": "MoBBtvDCEZnQ",
        "colab": {
          "base_uri": "https://localhost:8080/"
        },
        "outputId": "ff56fa42-691a-49f8-931a-4d391b83b38b"
      },
      "execution_count": 39,
      "outputs": [
        {
          "output_type": "stream",
          "name": "stdout",
          "text": [
            "tensor([[[ 1.3216],\n",
            "         [ 1.6874],\n",
            "         [-0.2261]],\n",
            "\n",
            "        [[-1.0417],\n",
            "         [ 0.2385],\n",
            "         [ 1.2379]],\n",
            "\n",
            "        [[-1.0817],\n",
            "         [ 0.7345],\n",
            "         [ 0.1175]]])\n",
            "torch.Size([3, 3, 1])\n"
          ]
        }
      ]
    },
    {
      "cell_type": "markdown",
      "metadata": {
        "id": "_C_oa9JANOa6"
      },
      "source": [
        "`stack`: 텐서간 결합"
      ]
    },
    {
      "cell_type": "code",
      "metadata": {
        "id": "f3x_XaUYNOuc",
        "colab": {
          "base_uri": "https://localhost:8080/"
        },
        "outputId": "d1472b15-35eb-4998-f6c6-9071e605ed72"
      },
      "source": [
        "x = torch.FloatTensor([1,4])\n",
        "print(x)\n",
        "y = torch.FloatTensor([2,5])\n",
        "print(y)\n",
        "z = torch.FloatTensor([3,6])\n",
        "print(z)\n",
        "\n",
        "print(torch.stack([x,y,z]))"
      ],
      "execution_count": 40,
      "outputs": [
        {
          "output_type": "stream",
          "name": "stdout",
          "text": [
            "tensor([1., 4.])\n",
            "tensor([2., 5.])\n",
            "tensor([3., 6.])\n",
            "tensor([[1., 4.],\n",
            "        [2., 5.],\n",
            "        [3., 6.]])\n"
          ]
        }
      ]
    },
    {
      "cell_type": "markdown",
      "metadata": {
        "id": "XmJscbfg35-c"
      },
      "source": [
        "`cat`: 텐서를 결합하는 메소드(concatenate)\n",
        "\n",
        "- 넘파이의 `stack`과 유사하지만, 쌓을 `dim`이 존재해야함\n",
        "- 해당 차원을 늘려준 후 결합\n"
      ]
    },
    {
      "cell_type": "code",
      "metadata": {
        "id": "69M5jY60S7Mi",
        "colab": {
          "base_uri": "https://localhost:8080/"
        },
        "outputId": "22431a02-271f-46e6-a155-ec62d086a87e"
      },
      "source": [
        "a = torch.randn(1,3,3)\n",
        "print(a)\n",
        "b = torch.randn(1,3,3)\n",
        "print(b)\n",
        "c = torch.cat((a,b),dim=0)\n",
        "print(c)\n",
        "print(c.size())"
      ],
      "execution_count": 41,
      "outputs": [
        {
          "output_type": "stream",
          "name": "stdout",
          "text": [
            "tensor([[[ 0.9004, -0.9159, -0.3227],\n",
            "         [ 1.5120,  2.5176,  0.1025],\n",
            "         [-1.1455, -1.4630, -1.1003]]])\n",
            "tensor([[[ 0.9464, -0.5189,  0.5025],\n",
            "         [-1.2896, -0.2718,  0.1624],\n",
            "         [ 0.1837,  0.5143, -1.1232]]])\n",
            "tensor([[[ 0.9004, -0.9159, -0.3227],\n",
            "         [ 1.5120,  2.5176,  0.1025],\n",
            "         [-1.1455, -1.4630, -1.1003]],\n",
            "\n",
            "        [[ 0.9464, -0.5189,  0.5025],\n",
            "         [-1.2896, -0.2718,  0.1624],\n",
            "         [ 0.1837,  0.5143, -1.1232]]])\n",
            "torch.Size([2, 3, 3])\n"
          ]
        }
      ]
    },
    {
      "cell_type": "code",
      "source": [
        "c = torch.cat((a,b),dim=1)\n",
        "print(c)\n",
        "print(c.size())"
      ],
      "metadata": {
        "id": "YkaRQQRuRT3L",
        "colab": {
          "base_uri": "https://localhost:8080/"
        },
        "outputId": "6b815747-8b8c-4423-9fd2-26181752d62a"
      },
      "execution_count": 42,
      "outputs": [
        {
          "output_type": "stream",
          "name": "stdout",
          "text": [
            "tensor([[[ 0.9004, -0.9159, -0.3227],\n",
            "         [ 1.5120,  2.5176,  0.1025],\n",
            "         [-1.1455, -1.4630, -1.1003],\n",
            "         [ 0.9464, -0.5189,  0.5025],\n",
            "         [-1.2896, -0.2718,  0.1624],\n",
            "         [ 0.1837,  0.5143, -1.1232]]])\n",
            "torch.Size([1, 6, 3])\n"
          ]
        }
      ]
    },
    {
      "cell_type": "code",
      "source": [
        "c = torch.cat((a,b),dim=2)\n",
        "print(c)\n",
        "print(c.size())"
      ],
      "metadata": {
        "id": "7x2TWkYGRl0Z",
        "colab": {
          "base_uri": "https://localhost:8080/"
        },
        "outputId": "fa85a38e-a1bc-4650-c4a4-735dd89d0af7"
      },
      "execution_count": 43,
      "outputs": [
        {
          "output_type": "stream",
          "name": "stdout",
          "text": [
            "tensor([[[ 0.9004, -0.9159, -0.3227,  0.9464, -0.5189,  0.5025],\n",
            "         [ 1.5120,  2.5176,  0.1025, -1.2896, -0.2718,  0.1624],\n",
            "         [-1.1455, -1.4630, -1.1003,  0.1837,  0.5143, -1.1232]]])\n",
            "torch.Size([1, 3, 6])\n"
          ]
        }
      ]
    },
    {
      "cell_type": "markdown",
      "metadata": {
        "id": "7gGXnOAqQTmG"
      },
      "source": [
        "`chunk`: 텐서를 여러 개로 나눌 때 사용"
      ]
    },
    {
      "cell_type": "code",
      "metadata": {
        "id": "pNV80VzPQZgG",
        "colab": {
          "base_uri": "https://localhost:8080/"
        },
        "outputId": "59fd96d4-6e7c-4f72-e694-8dad36901066"
      },
      "source": [
        "c\n",
        "print(tensor)\n",
        "\n",
        "t1, t2, t3 = torch.chunk(tensor,3,dim=1)\n",
        "print(t1)\n",
        "print(t2)\n",
        "print(t3)"
      ],
      "execution_count": 44,
      "outputs": [
        {
          "output_type": "stream",
          "name": "stdout",
          "text": [
            "tensor([[[ 1.3216],\n",
            "         [ 1.6874],\n",
            "         [-0.2261]],\n",
            "\n",
            "        [[-1.0417],\n",
            "         [ 0.2385],\n",
            "         [ 1.2379]],\n",
            "\n",
            "        [[-1.0817],\n",
            "         [ 0.7345],\n",
            "         [ 0.1175]]])\n",
            "tensor([[[ 1.3216]],\n",
            "\n",
            "        [[-1.0417]],\n",
            "\n",
            "        [[-1.0817]]])\n",
            "tensor([[[1.6874]],\n",
            "\n",
            "        [[0.2385]],\n",
            "\n",
            "        [[0.7345]]])\n",
            "tensor([[[-0.2261]],\n",
            "\n",
            "        [[ 1.2379]],\n",
            "\n",
            "        [[ 0.1175]]])\n"
          ]
        }
      ]
    },
    {
      "cell_type": "markdown",
      "metadata": {
        "id": "7U0Qb0jWQgm-"
      },
      "source": [
        "`split`: `chunk`와 동일한 기능이지만 조금 다름\n",
        "\n"
      ]
    },
    {
      "cell_type": "code",
      "metadata": {
        "id": "1V6DDnLVQqxz",
        "colab": {
          "base_uri": "https://localhost:8080/"
        },
        "outputId": "f44a0465-c07a-4822-b768-52b389827eef"
      },
      "source": [
        "tensor = torch.rand(3,6)\n",
        "t1, t2 = torch.split(tensor, 3, dim=1)\n",
        "\n",
        "print(tensor)\n",
        "print(t1)\n",
        "print(t2)"
      ],
      "execution_count": 45,
      "outputs": [
        {
          "output_type": "stream",
          "name": "stdout",
          "text": [
            "tensor([[0.8502, 0.6041, 0.6744, 0.9065, 0.4438, 0.8419],\n",
            "        [0.9971, 0.5651, 0.0180, 0.5112, 0.9841, 0.1005],\n",
            "        [0.1254, 0.9260, 0.0633, 0.3297, 0.0795, 0.4258]])\n",
            "tensor([[0.8502, 0.6041, 0.6744],\n",
            "        [0.9971, 0.5651, 0.0180],\n",
            "        [0.1254, 0.9260, 0.0633]])\n",
            "tensor([[0.9065, 0.4438, 0.8419],\n",
            "        [0.5112, 0.9841, 0.1005],\n",
            "        [0.3297, 0.0795, 0.4258]])\n"
          ]
        }
      ]
    },
    {
      "cell_type": "markdown",
      "metadata": {
        "id": "estSwhCgvta6"
      },
      "source": [
        "torch ↔ numpy\n",
        "- Torch Tensor(텐서)를 NumPy array(배열)로 변환 가능\n",
        "  - `numpy()`\n",
        "  - `from_numpy()`\n",
        "- Tensor가 CPU상에 있다면 NumPy 배열은 메모리 공간을 공유하므로 하나가 변하면, 다른 하나도 변함"
      ]
    },
    {
      "cell_type": "code",
      "metadata": {
        "id": "VxHI7c_yvmAT",
        "colab": {
          "base_uri": "https://localhost:8080/"
        },
        "outputId": "0e936ed2-194a-41f4-a51b-5b8dd6322df0"
      },
      "source": [
        "a = torch.ones(7)\n",
        "print(a)"
      ],
      "execution_count": 46,
      "outputs": [
        {
          "output_type": "stream",
          "name": "stdout",
          "text": [
            "tensor([1., 1., 1., 1., 1., 1., 1.])\n"
          ]
        }
      ]
    },
    {
      "cell_type": "code",
      "metadata": {
        "id": "whbrhokHwJ3A",
        "colab": {
          "base_uri": "https://localhost:8080/"
        },
        "outputId": "00694276-add5-49da-f6ff-dcbe2cc8032c"
      },
      "source": [
        "b = a.numpy()\n",
        "print(b)"
      ],
      "execution_count": 47,
      "outputs": [
        {
          "output_type": "stream",
          "name": "stdout",
          "text": [
            "[1. 1. 1. 1. 1. 1. 1.]\n"
          ]
        }
      ]
    },
    {
      "cell_type": "code",
      "metadata": {
        "id": "5StIhUWDwQjA",
        "colab": {
          "base_uri": "https://localhost:8080/"
        },
        "outputId": "e644dee2-ef5f-4eb9-b9fd-9e6e9adffb82"
      },
      "source": [
        "a.add_(1)\n",
        "print(a)\n",
        "print(b)"
      ],
      "execution_count": 48,
      "outputs": [
        {
          "output_type": "stream",
          "name": "stdout",
          "text": [
            "tensor([2., 2., 2., 2., 2., 2., 2.])\n",
            "[2. 2. 2. 2. 2. 2. 2.]\n"
          ]
        }
      ]
    },
    {
      "cell_type": "code",
      "metadata": {
        "id": "3RNS5-cRwTt8",
        "colab": {
          "base_uri": "https://localhost:8080/"
        },
        "outputId": "e2581fa4-5203-46d9-8a64-4bfed5b5e239"
      },
      "source": [
        "import numpy as np\n",
        "\n",
        "a = np.ones(7)\n",
        "b = torch.from_numpy(a)\n",
        "np.add(a,1,out=a)\n",
        "print(a)\n",
        "print(b)"
      ],
      "execution_count": 49,
      "outputs": [
        {
          "output_type": "stream",
          "name": "stdout",
          "text": [
            "[2. 2. 2. 2. 2. 2. 2.]\n",
            "tensor([2., 2., 2., 2., 2., 2., 2.], dtype=torch.float64)\n"
          ]
        }
      ]
    },
    {
      "cell_type": "markdown",
      "metadata": {
        "id": "NKqiGvLWx2nk"
      },
      "source": [
        "## Autograd(자동미분)\n",
        "\n",
        "- `torch.autograd` 패키지는 Tensor의 모든 연산에 대해 **자동 미분** 제공\n",
        "- 이는 코드를 어떻게 작성하여 실행하느냐에 따라 역전파가 정의된다는 뜻\n",
        "- `backprop`를 위해 미분값을 자동으로 계산"
      ]
    },
    {
      "cell_type": "markdown",
      "metadata": {
        "id": "0zH41l-MyMHi"
      },
      "source": [
        "`requires_grad` 속성을 `True`로 설정하면, 해당 텐서에서 이루어지는 모든 연산들을 추적하기 시작\n",
        "\n",
        "기록을 추적하는 것을 중단하게 하려면, `.detach()`를 호출하여 연산기록으로부터 분리"
      ]
    },
    {
      "cell_type": "code",
      "metadata": {
        "id": "mHGROgrM0ebO",
        "colab": {
          "base_uri": "https://localhost:8080/"
        },
        "outputId": "457defa2-a2d2-4641-983b-4a995177a7f0"
      },
      "source": [
        "a = torch.randn(3,3)\n",
        "a = a * 3\n",
        "print(a)\n",
        "print(a.requires_grad)\n"
      ],
      "execution_count": 50,
      "outputs": [
        {
          "output_type": "stream",
          "name": "stdout",
          "text": [
            "tensor([[-3.2636,  3.5984, -4.7108],\n",
            "        [ 2.3726,  9.0276,  0.5827],\n",
            "        [-4.9854,  2.2370, -5.5513]])\n",
            "False\n"
          ]
        }
      ]
    },
    {
      "cell_type": "markdown",
      "metadata": {
        "id": "2aZ8SWn_0nqt"
      },
      "source": [
        "`requires_grad_(...)`는 기존 텐서의 `requires_grad` 값을 바꿔치기(`in-place`)하여 변경\n",
        "\n",
        "`grad_fn`: 미분값을 계산한 함수에 대한 정보 저장 (어떤 함수에 대해서 backprop 했는지)"
      ]
    },
    {
      "cell_type": "code",
      "source": [
        "a.requires_grad_(True)\n",
        "print(a.requires_grad)\n",
        "\n",
        "b =(a * a).sum()\n",
        "print(b)\n",
        "print(b.grad_fn)\n"
      ],
      "metadata": {
        "id": "trZeGPnNgiLi",
        "colab": {
          "base_uri": "https://localhost:8080/"
        },
        "outputId": "3507ec77-1e1c-4543-8af7-b324c8fdce37"
      },
      "execution_count": 51,
      "outputs": [
        {
          "output_type": "stream",
          "name": "stdout",
          "text": [
            "True\n",
            "tensor(193.9329, grad_fn=<SumBackward0>)\n",
            "<SumBackward0 object at 0x7aaa3548eda0>\n"
          ]
        }
      ]
    },
    {
      "cell_type": "markdown",
      "metadata": {
        "id": "KiEn_stZ1VgU"
      },
      "source": [
        "### 기울기(Gradient)"
      ]
    },
    {
      "cell_type": "code",
      "metadata": {
        "id": "ljNU-r9p0Rpo",
        "colab": {
          "base_uri": "https://localhost:8080/"
        },
        "outputId": "7fcee4e0-8a9e-4df4-a066-f2e07d8731bb"
      },
      "source": [
        "x = torch.ones(3, 3,requires_grad=True)\n",
        "print(x)"
      ],
      "execution_count": 52,
      "outputs": [
        {
          "output_type": "stream",
          "name": "stdout",
          "text": [
            "tensor([[1., 1., 1.],\n",
            "        [1., 1., 1.],\n",
            "        [1., 1., 1.]], requires_grad=True)\n"
          ]
        }
      ]
    },
    {
      "cell_type": "code",
      "metadata": {
        "id": "or6sQ4EB0UYz",
        "colab": {
          "base_uri": "https://localhost:8080/"
        },
        "outputId": "c4a00693-5302-4fe3-85c2-419fc21c8dfc"
      },
      "source": [
        "y = x + 5\n",
        "print(y)"
      ],
      "execution_count": 53,
      "outputs": [
        {
          "output_type": "stream",
          "name": "stdout",
          "text": [
            "tensor([[6., 6., 6.],\n",
            "        [6., 6., 6.],\n",
            "        [6., 6., 6.]], grad_fn=<AddBackward0>)\n"
          ]
        }
      ]
    },
    {
      "cell_type": "code",
      "metadata": {
        "id": "6_2iM-Zq0ZdG",
        "colab": {
          "base_uri": "https://localhost:8080/"
        },
        "outputId": "e8135c3e-9771-45cc-e409-3b1203592380"
      },
      "source": [
        "z = y * y\n",
        "out = z.mean()\n",
        "print(z, out)"
      ],
      "execution_count": 54,
      "outputs": [
        {
          "output_type": "stream",
          "name": "stdout",
          "text": [
            "tensor([[36., 36., 36.],\n",
            "        [36., 36., 36.],\n",
            "        [36., 36., 36.]], grad_fn=<MulBackward0>) tensor(36., grad_fn=<MeanBackward0>)\n"
          ]
        }
      ]
    },
    {
      "cell_type": "markdown",
      "source": [
        "계산이 완료된 후, `.backward()`를 호출하면 자동으로 역전파 계산이 가능하고, `.grad` 속성에 누적됨"
      ],
      "metadata": {
        "id": "FW2x4dnSa7hp"
      }
    },
    {
      "cell_type": "code",
      "metadata": {
        "id": "1tdoN9p-1kn4",
        "colab": {
          "base_uri": "https://localhost:8080/"
        },
        "outputId": "6bfc87d0-e867-43d6-de99-d3799be60ced"
      },
      "source": [
        "print(out)\n",
        "out.backward()"
      ],
      "execution_count": 55,
      "outputs": [
        {
          "output_type": "stream",
          "name": "stdout",
          "text": [
            "tensor(36., grad_fn=<MeanBackward0>)\n"
          ]
        }
      ]
    },
    {
      "cell_type": "markdown",
      "source": [
        "`grad`: data가 거쳐온 layer에 대한 미분값 저장"
      ],
      "metadata": {
        "id": "eKshKwXua5SU"
      }
    },
    {
      "cell_type": "code",
      "metadata": {
        "id": "CixGTXbV1B9p",
        "colab": {
          "base_uri": "https://localhost:8080/"
        },
        "outputId": "2a399d2d-6438-433a-b675-010a50dcf73d"
      },
      "source": [
        "print(x)\n",
        "print(x.grad)"
      ],
      "execution_count": 56,
      "outputs": [
        {
          "output_type": "stream",
          "name": "stdout",
          "text": [
            "tensor([[1., 1., 1.],\n",
            "        [1., 1., 1.],\n",
            "        [1., 1., 1.]], requires_grad=True)\n",
            "tensor([[1.3333, 1.3333, 1.3333],\n",
            "        [1.3333, 1.3333, 1.3333],\n",
            "        [1.3333, 1.3333, 1.3333]])\n"
          ]
        }
      ]
    },
    {
      "cell_type": "code",
      "metadata": {
        "id": "SY63Mcc-1iNI",
        "colab": {
          "base_uri": "https://localhost:8080/"
        },
        "outputId": "90715de3-7cb9-4c31-d8ca-6511311ac4cd"
      },
      "source": [
        "x = torch.randn(3, requires_grad = True)\n",
        "\n",
        "y = x*2\n",
        "while y.data.norm() < 1000:\n",
        "    y = y * 2\n",
        "\n",
        "print(y)"
      ],
      "execution_count": 57,
      "outputs": [
        {
          "output_type": "stream",
          "name": "stdout",
          "text": [
            "tensor([ 450.2724,  166.8605, 1547.1564], grad_fn=<MulBackward0>)\n"
          ]
        }
      ]
    },
    {
      "cell_type": "code",
      "metadata": {
        "id": "YPaVAbIT3gx_",
        "colab": {
          "base_uri": "https://localhost:8080/"
        },
        "outputId": "dda9ccec-ac02-40d5-bfa7-92b7951400a2"
      },
      "source": [
        "v = torch.tensor([0.1,1.0,0.001], dtype=torch.float)\n",
        "y.backward(v)\n",
        "\n",
        "print(x.grad)"
      ],
      "execution_count": 58,
      "outputs": [
        {
          "output_type": "stream",
          "name": "stdout",
          "text": [
            "tensor([ 102.4000, 1024.0000,    1.0240])\n"
          ]
        }
      ]
    },
    {
      "cell_type": "markdown",
      "metadata": {
        "id": "0b9amArPXtcX"
      },
      "source": [
        "`with torch.no_grad()`를 사용하여 기울기의 업데이트를 하지 않음\n",
        "\n",
        "기록을 추적하는 것을 방지하기 위해 코드 블럭을 `with torch.no_grad()`로 감싸면 기울기 계산은 필요없지만, `requires_grad=True`로 설정되어 학습 가능한 매개변수를 갖는 모델을 평가(evaluate)할 때 유용"
      ]
    },
    {
      "cell_type": "code",
      "metadata": {
        "id": "weeIe5_Z3jVe",
        "colab": {
          "base_uri": "https://localhost:8080/"
        },
        "outputId": "b37ea894-6765-43ff-d006-264c28791617"
      },
      "source": [
        "print(x.requires_grad)\n",
        "print((x**2).requires_grad)\n",
        "\n",
        "with torch.no_grad():\n",
        "    print((x**2).requires_grad)"
      ],
      "execution_count": 59,
      "outputs": [
        {
          "output_type": "stream",
          "name": "stdout",
          "text": [
            "True\n",
            "True\n",
            "False\n"
          ]
        }
      ]
    },
    {
      "cell_type": "markdown",
      "metadata": {
        "id": "bLcTLVRSmCdH"
      },
      "source": [
        "`detach()`: 내용물(content)은 같지만 `require_grad`가 다른 새로운 Tensor를 가져올 때"
      ]
    },
    {
      "cell_type": "code",
      "metadata": {
        "id": "ALcth7Ew3l7H",
        "colab": {
          "base_uri": "https://localhost:8080/"
        },
        "outputId": "ac6c0756-8cb3-4bac-99f0-f0ff5a97bc4e"
      },
      "source": [
        "print(x.requires_grad)\n",
        "y = x.detach()\n",
        "print(y.requires_grad)\n",
        "print(x.eq(y).all())"
      ],
      "execution_count": 60,
      "outputs": [
        {
          "output_type": "stream",
          "name": "stdout",
          "text": [
            "True\n",
            "False\n",
            "tensor(True)\n"
          ]
        }
      ]
    },
    {
      "cell_type": "markdown",
      "metadata": {
        "id": "NSarysrqBh9D"
      },
      "source": [
        "### 자동 미분 흐름 예제\n",
        "\n",
        "- 계산 흐름 $a \\rightarrow b  \\rightarrow c  \\rightarrow out $\n",
        "\n",
        "## $\\quad \\frac{\\partial out}{\\partial a} = ?$\n",
        "- `backward()`를 통해 $a \\leftarrow b  \\leftarrow c  \\leftarrow out $을 계산하면 $\\frac{\\partial out}{\\partial a}$값이 `a.grad`에 채워짐\n"
      ]
    },
    {
      "cell_type": "code",
      "metadata": {
        "id": "tCW7dq9uB89T",
        "colab": {
          "base_uri": "https://localhost:8080/"
        },
        "outputId": "5ff8d863-1706-4523-db4f-3fa69832cfb5"
      },
      "source": [
        "a = torch.ones(2, 2)\n",
        "print(a)"
      ],
      "execution_count": 61,
      "outputs": [
        {
          "output_type": "stream",
          "name": "stdout",
          "text": [
            "tensor([[1., 1.],\n",
            "        [1., 1.]])\n"
          ]
        }
      ]
    },
    {
      "cell_type": "code",
      "metadata": {
        "id": "-AyyGy49FLz9",
        "colab": {
          "base_uri": "https://localhost:8080/"
        },
        "outputId": "e1e103f0-51f0-4cc8-80c4-4cb1d84961d8"
      },
      "source": [
        "a = torch.ones(2, 2,requires_grad=True)\n",
        "print(a)"
      ],
      "execution_count": 62,
      "outputs": [
        {
          "output_type": "stream",
          "name": "stdout",
          "text": [
            "tensor([[1., 1.],\n",
            "        [1., 1.]], requires_grad=True)\n"
          ]
        }
      ]
    },
    {
      "cell_type": "code",
      "source": [
        "print(a.data)\n",
        "print(a.grad)\n",
        "print(a.grad_fn)"
      ],
      "metadata": {
        "id": "snIgJF-Wl6xW",
        "colab": {
          "base_uri": "https://localhost:8080/"
        },
        "outputId": "33a126e9-9800-4205-d12b-ee38c2253710"
      },
      "execution_count": 63,
      "outputs": [
        {
          "output_type": "stream",
          "name": "stdout",
          "text": [
            "tensor([[1., 1.],\n",
            "        [1., 1.]])\n",
            "None\n",
            "None\n"
          ]
        }
      ]
    },
    {
      "cell_type": "markdown",
      "metadata": {
        "id": "BCwhTsiHGCmG"
      },
      "source": [
        "$b = a + 2$"
      ]
    },
    {
      "cell_type": "code",
      "metadata": {
        "id": "iUPt042iF9V1",
        "colab": {
          "base_uri": "https://localhost:8080/"
        },
        "outputId": "e0075918-5c4e-447e-99d7-5e94d9105f9e"
      },
      "source": [
        "b = a+2\n",
        "print(b)"
      ],
      "execution_count": 64,
      "outputs": [
        {
          "output_type": "stream",
          "name": "stdout",
          "text": [
            "tensor([[3., 3.],\n",
            "        [3., 3.]], grad_fn=<AddBackward0>)\n"
          ]
        }
      ]
    },
    {
      "cell_type": "markdown",
      "metadata": {
        "id": "6cw2zoq9GHLF"
      },
      "source": [
        "$c = b^2$"
      ]
    },
    {
      "cell_type": "code",
      "metadata": {
        "id": "FRDS6gP0GFZG",
        "colab": {
          "base_uri": "https://localhost:8080/"
        },
        "outputId": "6fa99443-18a1-4e8b-cceb-4c8038a1f87f"
      },
      "source": [
        "c = b**2\n",
        "print(c)"
      ],
      "execution_count": 65,
      "outputs": [
        {
          "output_type": "stream",
          "name": "stdout",
          "text": [
            "tensor([[9., 9.],\n",
            "        [9., 9.]], grad_fn=<PowBackward0>)\n"
          ]
        }
      ]
    },
    {
      "cell_type": "code",
      "metadata": {
        "id": "VynoiUywGSwh",
        "colab": {
          "base_uri": "https://localhost:8080/"
        },
        "outputId": "bad18548-b6ab-4bf7-f95e-fae45cf560a2"
      },
      "source": [
        "out = c.sum()\n",
        "print(out)"
      ],
      "execution_count": 66,
      "outputs": [
        {
          "output_type": "stream",
          "name": "stdout",
          "text": [
            "tensor(36., grad_fn=<SumBackward0>)\n"
          ]
        }
      ]
    },
    {
      "cell_type": "code",
      "metadata": {
        "id": "v3ryJon9GeMn",
        "colab": {
          "base_uri": "https://localhost:8080/"
        },
        "outputId": "97754b7b-7f61-4f6d-c568-99d2e58b2808"
      },
      "source": [
        "print(out)\n",
        "out.backward()"
      ],
      "execution_count": 67,
      "outputs": [
        {
          "output_type": "stream",
          "name": "stdout",
          "text": [
            "tensor(36., grad_fn=<SumBackward0>)\n"
          ]
        }
      ]
    },
    {
      "cell_type": "markdown",
      "metadata": {
        "id": "f0aoNsPDHsoG"
      },
      "source": [
        "a의 `grad_fn`이 None인 이유는 직접적으로 계산한 부분이 없었기 때문"
      ]
    },
    {
      "cell_type": "code",
      "metadata": {
        "id": "bccI4vIWGgqj",
        "colab": {
          "base_uri": "https://localhost:8080/"
        },
        "outputId": "f1ebcea6-a06c-4d66-fb9c-4c6e3a773fdf"
      },
      "source": [
        "print(a.data)\n",
        "print(a.grad)\n",
        "print(a.grad_fn)"
      ],
      "execution_count": 68,
      "outputs": [
        {
          "output_type": "stream",
          "name": "stdout",
          "text": [
            "tensor([[1., 1.],\n",
            "        [1., 1.]])\n",
            "tensor([[6., 6.],\n",
            "        [6., 6.]])\n",
            "None\n"
          ]
        }
      ]
    },
    {
      "cell_type": "code",
      "metadata": {
        "id": "oka1mkadHq-N",
        "colab": {
          "base_uri": "https://localhost:8080/"
        },
        "outputId": "963f1836-2686-4438-d93c-e34bf161c4bf"
      },
      "source": [
        "print(b.data)\n",
        "print(b.grad)\n",
        "print(b.grad_fn)"
      ],
      "execution_count": 69,
      "outputs": [
        {
          "output_type": "stream",
          "name": "stdout",
          "text": [
            "tensor([[3., 3.],\n",
            "        [3., 3.]])\n",
            "None\n",
            "<AddBackward0 object at 0x7aaa355c7e20>\n"
          ]
        },
        {
          "output_type": "stream",
          "name": "stderr",
          "text": [
            "<ipython-input-69-7222c1aec66c>:2: UserWarning: The .grad attribute of a Tensor that is not a leaf Tensor is being accessed. Its .grad attribute won't be populated during autograd.backward(). If you indeed want the .grad field to be populated for a non-leaf Tensor, use .retain_grad() on the non-leaf Tensor. If you access the non-leaf Tensor by mistake, make sure you access the leaf Tensor instead. See github.com/pytorch/pytorch/pull/30531 for more informations. (Triggered internally at aten/src/ATen/core/TensorBody.h:489.)\n",
            "  print(b.grad)\n"
          ]
        }
      ]
    },
    {
      "cell_type": "code",
      "metadata": {
        "id": "ZiYNajdLccUF",
        "colab": {
          "base_uri": "https://localhost:8080/"
        },
        "outputId": "e4d227b9-dfe8-493b-8c8a-5821b0985b8f"
      },
      "source": [
        "print(c.data)\n",
        "print(c.grad)\n",
        "print(c.grad_fn)"
      ],
      "execution_count": 70,
      "outputs": [
        {
          "output_type": "stream",
          "name": "stdout",
          "text": [
            "tensor([[9., 9.],\n",
            "        [9., 9.]])\n",
            "None\n",
            "<PowBackward0 object at 0x7aaa355c7280>\n"
          ]
        },
        {
          "output_type": "stream",
          "name": "stderr",
          "text": [
            "<ipython-input-70-f6ca42a4f63f>:2: UserWarning: The .grad attribute of a Tensor that is not a leaf Tensor is being accessed. Its .grad attribute won't be populated during autograd.backward(). If you indeed want the .grad field to be populated for a non-leaf Tensor, use .retain_grad() on the non-leaf Tensor. If you access the non-leaf Tensor by mistake, make sure you access the leaf Tensor instead. See github.com/pytorch/pytorch/pull/30531 for more informations. (Triggered internally at aten/src/ATen/core/TensorBody.h:489.)\n",
            "  print(c.grad)\n"
          ]
        }
      ]
    },
    {
      "cell_type": "code",
      "metadata": {
        "id": "BcLoMYite0vU",
        "colab": {
          "base_uri": "https://localhost:8080/"
        },
        "outputId": "2fd2f94a-208d-4c0d-c55b-ee4cdc4fc8fb"
      },
      "source": [
        "print(out.data)\n",
        "print(out.grad)\n",
        "print(out.grad_fn)"
      ],
      "execution_count": 71,
      "outputs": [
        {
          "output_type": "stream",
          "name": "stdout",
          "text": [
            "tensor(36.)\n",
            "None\n",
            "<SumBackward0 object at 0x7aaa355c7490>\n"
          ]
        },
        {
          "output_type": "stream",
          "name": "stderr",
          "text": [
            "<ipython-input-71-85e75c577388>:2: UserWarning: The .grad attribute of a Tensor that is not a leaf Tensor is being accessed. Its .grad attribute won't be populated during autograd.backward(). If you indeed want the .grad field to be populated for a non-leaf Tensor, use .retain_grad() on the non-leaf Tensor. If you access the non-leaf Tensor by mistake, make sure you access the leaf Tensor instead. See github.com/pytorch/pytorch/pull/30531 for more informations. (Triggered internally at aten/src/ATen/core/TensorBody.h:489.)\n",
            "  print(out.grad)\n"
          ]
        }
      ]
    },
    {
      "cell_type": "markdown",
      "metadata": {
        "id": "I4l1GvIlslKa"
      },
      "source": [
        "## 데이터 준비\n",
        "\n",
        "파이토치에서는 데이터 준비를 위해 `torch.utils.data`의 `Dataset`과 `DataLoader` 사용 가능\n",
        "\n",
        "- `Dataset`에는 다양한 데이터셋이 존재 (MNIST, FashionMNIST, CIFAR10, ...)\n",
        "  - Vision Dataset: https://pytorch.org/vision/stable/datasets.html\n",
        "  - Text Dataset: https://pytorch.org/text/stable/datasets.html\n",
        "  - Audio Dataset: https://pytorch.org/audio/stable/datasets.html\n",
        "- `DataLoader`와 `Dataset`을 통해 `batch_size`, `train` 여부, `transform` 등을 인자로 넣어 데이터를 어떻게 load할 것인지 정해줄 수 있음"
      ]
    },
    {
      "cell_type": "code",
      "source": [
        "from torch.utils.data import Dataset, DataLoader"
      ],
      "metadata": {
        "id": "ccOuOUHtIbNY"
      },
      "execution_count": 72,
      "outputs": []
    },
    {
      "cell_type": "markdown",
      "metadata": {
        "id": "Wah4RsmgrRDP"
      },
      "source": [
        "토치비전(`torchvision`)은 파이토치에서 제공하는 데이터셋들이 모여있는 패키지\n",
        "\n",
        "- `transforms`: 전처리할 때 사용하는 메소드 (https://pytorch.org/docs/stable/torchvision/transforms.html)\n",
        "- `transforms`에서 제공하는 클래스 이외는 일반적으로 클래스를 따로 만들어 전처리 단계를 진행\n"
      ]
    },
    {
      "cell_type": "code",
      "metadata": {
        "id": "akvq4QWmqSil"
      },
      "source": [
        "import torchvision.transforms as transforms\n",
        "from torchvision import datasets"
      ],
      "execution_count": 73,
      "outputs": []
    },
    {
      "cell_type": "markdown",
      "metadata": {
        "id": "PKu5mzyTs-Qj"
      },
      "source": [
        "`DataLoader`의 인자로 들어갈 `transform`을 미리 정의할 수 있고, `Compose`를 통해 리스트 안에 순서대로 전처리 진행\n",
        "\n",
        "`ToTensor`()를 하는 이유는 `torchvision`이 PIL Image 형태로만 입력을 받기 때문에 데이터 처리를 위해서 Tensor형으로 변환 필요"
      ]
    },
    {
      "cell_type": "code",
      "metadata": {
        "id": "y6K7FH-Rs9my"
      },
      "source": [
        "mnist_transform = transforms.Compose([transforms.ToTensor(),\n",
        "                                       transforms.Normalize(mean=(0.5,), std=(1.0,))])"
      ],
      "execution_count": 74,
      "outputs": []
    },
    {
      "cell_type": "code",
      "source": [
        "from google.colab import drive\n",
        "drive.mount('/content/drive')"
      ],
      "metadata": {
        "colab": {
          "base_uri": "https://localhost:8080/"
        },
        "id": "s_XiqPj3jpA_",
        "outputId": "d0870f0f-51e9-4869-a6e2-7bdc216b3a53"
      },
      "execution_count": 75,
      "outputs": [
        {
          "output_type": "stream",
          "name": "stdout",
          "text": [
            "Drive already mounted at /content/drive; to attempt to forcibly remount, call drive.mount(\"/content/drive\", force_remount=True).\n"
          ]
        }
      ]
    },
    {
      "cell_type": "code",
      "metadata": {
        "id": "lldpI2lquBu3"
      },
      "source": [
        "trainset =  datasets.MNIST(root='/content/',\n",
        "                          train=True, download=True,\n",
        "                          transform=mnist_transform)\n",
        "\n",
        "testset = datasets.MNIST(root='/content/',\n",
        "                          train=False, download=True,\n",
        "                          transform=mnist_transform)"
      ],
      "execution_count": 76,
      "outputs": []
    },
    {
      "cell_type": "markdown",
      "metadata": {
        "id": "zrxymquLxeo8"
      },
      "source": [
        "`DataLoader`는 데이터 전체를 보관했다가 실제 모델 학습을 할 때 `batch_size` 크기만큼 데이터를 가져옴"
      ]
    },
    {
      "cell_type": "code",
      "metadata": {
        "id": "fKddZnT1uQmT"
      },
      "source": [
        "train_loader = DataLoader(trainset, batch_size = 8, shuffle = True, num_workers = 2)\n",
        "test_loader = DataLoader(testset, batch_size = 8, shuffle = False, num_workers = 2)"
      ],
      "execution_count": 77,
      "outputs": []
    },
    {
      "cell_type": "code",
      "metadata": {
        "id": "hvgMIyF6uUuU",
        "colab": {
          "base_uri": "https://localhost:8080/"
        },
        "outputId": "2aacf9e7-973e-418a-835c-89be358e28f7"
      },
      "source": [
        "dataiter = iter(train_loader)\n",
        "images, labels = next(dataiter)\n",
        "images.shape, labels.shape"
      ],
      "execution_count": 78,
      "outputs": [
        {
          "output_type": "execute_result",
          "data": {
            "text/plain": [
              "(torch.Size([8, 1, 28, 28]), torch.Size([8]))"
            ]
          },
          "metadata": {},
          "execution_count": 78
        }
      ]
    },
    {
      "cell_type": "code",
      "metadata": {
        "id": "zDcUY6o4xUQp",
        "colab": {
          "base_uri": "https://localhost:8080/"
        },
        "outputId": "a54344ae-1da0-48b0-a112-46a09287f629"
      },
      "source": [
        "torch_image = torch.squeeze(images[0])\n",
        "torch_image.shape"
      ],
      "execution_count": 79,
      "outputs": [
        {
          "output_type": "execute_result",
          "data": {
            "text/plain": [
              "torch.Size([28, 28])"
            ]
          },
          "metadata": {},
          "execution_count": 79
        }
      ]
    },
    {
      "cell_type": "code",
      "source": [
        "import matplotlib.pyplot as plt\n",
        "\n",
        "figure = plt.figure(figsize=(12, 6))\n",
        "cols, rows = 4, 2\n",
        "for i in range(1,cols * rows+1):\n",
        "    sample_idx = torch.randint(len(trainset), size=(1, )).item()\n",
        "    img, label = trainset[sample_idx]\n",
        "    figure.add_subplot(rows, cols, i)\n",
        "    plt.title(label)\n",
        "    plt.axis('off')\n",
        "    plt.imshow(img.squeeze(), cmap= 'gray')\n",
        "plt.show()"
      ],
      "metadata": {
        "id": "Fg5oGdrdXXp8",
        "colab": {
          "base_uri": "https://localhost:8080/",
          "height": 513
        },
        "outputId": "a77d3911-e12b-48f4-8fe5-7017a70069b4"
      },
      "execution_count": 80,
      "outputs": [
        {
          "output_type": "display_data",
          "data": {
            "text/plain": [
              "<Figure size 1200x600 with 8 Axes>"
            ],
            "image/png": "[encoded data removed]"
          },
          "metadata": {}
        }
      ]
    },
    {
      "cell_type": "markdown",
      "metadata": {
        "id": "DKv-osmNmWiA"
      },
      "source": [
        "## 신경망 구성\n",
        "\n",
        "- 레이어(layer): 신경망의 핵심 데이터 구조로 하나 이상의 텐서를 입력받아 하나 이상의 텐서를 출력\n",
        "- 모듈(module): 한 개 이상의 계층이 모여서 구성\n",
        "- 모델(model): 한 개 이상의 모듈이 모여서 구성\n"
      ]
    },
    {
      "cell_type": "markdown",
      "metadata": {
        "id": "jk8fkKq3nWP1"
      },
      "source": [
        "### `torch.nn` 패키지\n",
        "\n",
        "주로 가중치(weights), 편향(bias)값들이 내부에서 자동으로 생성되는 레이어들을 사용할 때 사용 (`weight`값들을 직접 선언 안함)\n",
        "\n",
        "https://pytorch.org/docs/stable/nn.html\n"
      ]
    },
    {
      "cell_type": "code",
      "metadata": {
        "id": "8tEtWHAsmZMy"
      },
      "source": [
        "import torch.nn as nn"
      ],
      "execution_count": 81,
      "outputs": []
    },
    {
      "cell_type": "markdown",
      "source": [
        "`nn.Linear` 계층 예제"
      ],
      "metadata": {
        "id": "m1dZ-ORZkCCW"
      }
    },
    {
      "cell_type": "code",
      "source": [
        "input = torch.randn(128,20)\n",
        "print(input)\n",
        "\n",
        "m = nn.Linear(20,30)\n",
        "print(m)\n",
        "\n",
        "output = m(input)\n",
        "print(output)\n",
        "print(output.size())"
      ],
      "metadata": {
        "id": "8msyNoL6dy-t",
        "colab": {
          "base_uri": "https://localhost:8080/"
        },
        "outputId": "35efdd39-c2df-4cc4-debd-af187867e895"
      },
      "execution_count": 82,
      "outputs": [
        {
          "output_type": "stream",
          "name": "stdout",
          "text": [
            "tensor([[ 1.3689, -1.3142,  0.8490,  ..., -0.1600, -0.8526, -0.2235],\n",
            "        [-0.3163, -0.5519, -0.6260,  ...,  0.0955, -0.8591, -0.0643],\n",
            "        [ 0.6901,  0.0683,  0.8935,  ..., -0.3715,  0.1350, -1.4646],\n",
            "        ...,\n",
            "        [ 1.0418, -0.3389, -0.6803,  ..., -1.7587,  2.1906, -1.4690],\n",
            "        [ 0.9484,  0.0947, -0.5903,  ..., -0.6745,  1.2842,  0.6086],\n",
            "        [ 0.9146,  0.6856, -0.7846,  ..., -0.7160, -1.1556,  0.2909]])\n",
            "Linear(in_features=20, out_features=30, bias=True)\n",
            "tensor([[ 0.5704, -0.8189,  0.8831,  ..., -0.3840, -0.9726,  0.0335],\n",
            "        [-0.3383, -0.4906, -0.1443,  ...,  0.6922,  0.1765,  0.4134],\n",
            "        [ 0.0739, -0.9720, -0.4653,  ..., -0.2180,  0.1679, -0.0890],\n",
            "        ...,\n",
            "        [-0.4492,  0.2408, -0.2017,  ..., -0.6578, -0.2095,  0.0199],\n",
            "        [-0.1692,  0.3493, -0.1430,  ..., -0.4147, -0.0439,  0.2980],\n",
            "        [ 0.4410,  0.1538,  1.0547,  ...,  0.5834,  0.0465, -0.4168]],\n",
            "       grad_fn=<AddmmBackward0>)\n",
            "torch.Size([128, 30])\n"
          ]
        }
      ]
    },
    {
      "cell_type": "markdown",
      "metadata": {
        "id": "NcjCbeEQqPSI"
      },
      "source": [
        "`nn.Conv2d` 계층 예시\n"
      ]
    },
    {
      "cell_type": "code",
      "source": [
        "input = torch.rand(20, 16, 50, 100)\n",
        "print(input.size())"
      ],
      "metadata": {
        "id": "-5UqYcigpGYy",
        "colab": {
          "base_uri": "https://localhost:8080/"
        },
        "outputId": "30429cd2-c493-431d-b095-0f9309eed3d7"
      },
      "execution_count": 83,
      "outputs": [
        {
          "output_type": "stream",
          "name": "stdout",
          "text": [
            "torch.Size([20, 16, 50, 100])\n"
          ]
        }
      ]
    },
    {
      "cell_type": "code",
      "metadata": {
        "id": "NQ7Y0tCOpkhM",
        "colab": {
          "base_uri": "https://localhost:8080/"
        },
        "outputId": "d16321e5-eb6d-4f86-e385-dc3888ee6325"
      },
      "source": [
        "m = nn.Conv2d(16, 33, 3, stride=2)\n",
        "m = nn.Conv2d(16, 33, (3,5), stride=(2,1), padding=(4, 2))\n",
        "m = nn.Conv2d(16, 33, (3,5), stride=(2,1), padding=(4, 2), dilation=(3, 1))\n",
        "print(m)"
      ],
      "execution_count": 84,
      "outputs": [
        {
          "output_type": "stream",
          "name": "stdout",
          "text": [
            "Conv2d(16, 33, kernel_size=(3, 5), stride=(2, 1), padding=(4, 2), dilation=(3, 1))\n"
          ]
        }
      ]
    },
    {
      "cell_type": "code",
      "source": [
        "output = m(input)\n",
        "print(output.size())"
      ],
      "metadata": {
        "id": "uDCBCAmspMv0",
        "colab": {
          "base_uri": "https://localhost:8080/"
        },
        "outputId": "966f944f-54fa-4605-a534-2ac87cf2068e"
      },
      "execution_count": 85,
      "outputs": [
        {
          "output_type": "stream",
          "name": "stdout",
          "text": [
            "torch.Size([20, 33, 26, 100])\n"
          ]
        }
      ]
    },
    {
      "cell_type": "markdown",
      "metadata": {
        "id": "73kJ3heBi26y"
      },
      "source": [
        "### 컨볼루션 레이어(Convolution Layers)\n",
        "\n",
        "`nn.Conv2d` 예제\n",
        "\n",
        "- `in_channels`: channel의 갯수\n",
        "- `out_channels`: 출력 채널의 갯수\n",
        "- `kernel_size`: 커널(필터) 사이즈"
      ]
    },
    {
      "cell_type": "code",
      "metadata": {
        "id": "RcHJguyFipTl",
        "colab": {
          "base_uri": "https://localhost:8080/"
        },
        "outputId": "2d247067-e741-41f9-d711-f0a9aee7f266"
      },
      "source": [
        "nn.Conv2d(in_channels=1, out_channels=20,kernel_size=5,stride=1)"
      ],
      "execution_count": 86,
      "outputs": [
        {
          "output_type": "execute_result",
          "data": {
            "text/plain": [
              "Conv2d(1, 20, kernel_size=(5, 5), stride=(1, 1))"
            ]
          },
          "metadata": {},
          "execution_count": 86
        }
      ]
    },
    {
      "cell_type": "code",
      "metadata": {
        "id": "iWiJbViHjFG0",
        "colab": {
          "base_uri": "https://localhost:8080/"
        },
        "outputId": "ca38526a-5dbb-4943-ca4a-e4a6a412bcfb"
      },
      "source": [
        "layer = nn.Conv2d(1,20, 5, 1).to(torch.device('cpu'))\n",
        "layer"
      ],
      "execution_count": 87,
      "outputs": [
        {
          "output_type": "execute_result",
          "data": {
            "text/plain": [
              "Conv2d(1, 20, kernel_size=(5, 5), stride=(1, 1))"
            ]
          },
          "metadata": {},
          "execution_count": 87
        }
      ]
    },
    {
      "cell_type": "markdown",
      "metadata": {
        "id": "GxWYFm2xjUeN"
      },
      "source": [
        "`weight` 확인"
      ]
    },
    {
      "cell_type": "code",
      "metadata": {
        "id": "za0enRbyjPzV",
        "colab": {
          "base_uri": "https://localhost:8080/"
        },
        "outputId": "7332fe3a-b5cb-4d71-bfab-cda307838009"
      },
      "source": [
        "weight = layer.weight\n",
        "weight.shape"
      ],
      "execution_count": 88,
      "outputs": [
        {
          "output_type": "execute_result",
          "data": {
            "text/plain": [
              "torch.Size([20, 1, 5, 5])"
            ]
          },
          "metadata": {},
          "execution_count": 88
        }
      ]
    },
    {
      "cell_type": "markdown",
      "metadata": {
        "id": "MAZcTU2gjiCX"
      },
      "source": [
        "`weight`는 `detach()`를 통해 꺼내줘야 `numpy()`변환이 가능"
      ]
    },
    {
      "cell_type": "code",
      "metadata": {
        "id": "9eN_oUBkjT85"
      },
      "source": [
        "weight = weight.detach()"
      ],
      "execution_count": 89,
      "outputs": []
    },
    {
      "cell_type": "code",
      "metadata": {
        "id": "kwso9tsijmz8",
        "colab": {
          "base_uri": "https://localhost:8080/"
        },
        "outputId": "aa5b1ec2-4f3c-4b52-9355-e5029d165791"
      },
      "source": [
        "weight = weight.numpy()\n",
        "weight.shape"
      ],
      "execution_count": 90,
      "outputs": [
        {
          "output_type": "execute_result",
          "data": {
            "text/plain": [
              "(20, 1, 5, 5)"
            ]
          },
          "metadata": {},
          "execution_count": 90
        }
      ]
    },
    {
      "cell_type": "code",
      "metadata": {
        "id": "mUegf6HPjdPl",
        "colab": {
          "base_uri": "https://localhost:8080/",
          "height": 430
        },
        "outputId": "ce6c2624-0695-405a-e67b-0744ae5b8249"
      },
      "source": [
        "plt.imshow(weight[0, 0, :, :], 'jet')\n",
        "plt.colorbar()\n",
        "plt.show()"
      ],
      "execution_count": 91,
      "outputs": [
        {
          "output_type": "display_data",
          "data": {
            "text/plain": [
              "<Figure size 640x480 with 2 Axes>"
            ],
            "image/png": "[encoded data removed]"
          },
          "metadata": {}
        }
      ]
    },
    {
      "cell_type": "code",
      "metadata": {
        "id": "DMeTOqVmcdWa",
        "colab": {
          "base_uri": "https://localhost:8080/"
        },
        "outputId": "ec0e51e8-f2cd-4ff9-ffeb-7e755c974d3a"
      },
      "source": [
        "print(images.shape)\n",
        "print(images[0].size())\n",
        "\n",
        "input_image = torch.squeeze(images[0])\n",
        "print(input_image.size())"
      ],
      "execution_count": 92,
      "outputs": [
        {
          "output_type": "stream",
          "name": "stdout",
          "text": [
            "torch.Size([8, 1, 28, 28])\n",
            "torch.Size([1, 28, 28])\n",
            "torch.Size([28, 28])\n"
          ]
        }
      ]
    },
    {
      "cell_type": "code",
      "metadata": {
        "id": "cvolnNsscdHs",
        "colab": {
          "base_uri": "https://localhost:8080/"
        },
        "outputId": "d77b7b69-9c37-4b7c-b17c-a8952cba7aa0"
      },
      "source": [
        "input_data = torch.unsqueeze(images[0], dim=0)\n",
        "print(input_data.size())\n",
        "\n",
        "output_data = layer(input_data)\n",
        "output=output_data.data\n",
        "output_arr = output.numpy()\n",
        "output_arr.shape"
      ],
      "execution_count": 93,
      "outputs": [
        {
          "output_type": "stream",
          "name": "stdout",
          "text": [
            "torch.Size([1, 1, 28, 28])\n"
          ]
        },
        {
          "output_type": "execute_result",
          "data": {
            "text/plain": [
              "(1, 20, 24, 24)"
            ]
          },
          "metadata": {},
          "execution_count": 93
        }
      ]
    },
    {
      "cell_type": "code",
      "metadata": {
        "id": "uOHMu-UQkW3a",
        "colab": {
          "base_uri": "https://localhost:8080/",
          "height": 424
        },
        "outputId": "724cd6c7-cc7c-40c5-f69e-fd04470b0c53"
      },
      "source": [
        "plt.figure(figsize = (15, 30))\n",
        "plt.subplot(131)\n",
        "plt.title(\"input\")\n",
        "plt.imshow(input_image,'gray')\n",
        "\n",
        "plt.subplot(132)\n",
        "plt.title(\"weight\")\n",
        "plt.imshow(weight[0, 0, :, :],'jet')\n",
        "\n",
        "plt.subplot(133)\n",
        "plt.title(\"Output\")\n",
        "plt.imshow(output_arr[0, 0, :, :],'gray')\n",
        "\n",
        "plt.show()\n",
        "\n",
        "\n"
      ],
      "execution_count": 94,
      "outputs": [
        {
          "output_type": "display_data",
          "data": {
            "text/plain": [
              "<Figure size 1500x3000 with 3 Axes>"
            ],
            "image/png": "[encoded data removed]"
          },
          "metadata": {}
        }
      ]
    },
    {
      "cell_type": "markdown",
      "metadata": {
        "id": "6sCqGmH_kwHm"
      },
      "source": [
        "### 풀링 레이어(Pooling layers)\n",
        "\n",
        "- `F.max_pool2d`\n",
        "  - `stride`\n",
        "  - `kernel_size`\n",
        "- `torch.nn.MaxPool2d` 도 많이 사용"
      ]
    },
    {
      "cell_type": "code",
      "metadata": {
        "id": "tvI8W_8Yk81S",
        "colab": {
          "base_uri": "https://localhost:8080/"
        },
        "outputId": "d2357958-2e31-446b-b976-564ec8074e61"
      },
      "source": [
        "import torch.nn.functional as F\n",
        "\n",
        "pool = F.max_pool2d(output, 2, 2)\n",
        "pool.shape"
      ],
      "execution_count": 95,
      "outputs": [
        {
          "output_type": "execute_result",
          "data": {
            "text/plain": [
              "torch.Size([1, 20, 12, 12])"
            ]
          },
          "metadata": {},
          "execution_count": 95
        }
      ]
    },
    {
      "cell_type": "markdown",
      "metadata": {
        "id": "aV3HK4FulCaJ"
      },
      "source": [
        "- MaxPool Layer는 weight가 없기 때문에 바로 `numpy()`변환 가능"
      ]
    },
    {
      "cell_type": "code",
      "metadata": {
        "id": "fseB_qlflBta",
        "colab": {
          "base_uri": "https://localhost:8080/"
        },
        "outputId": "ebc647c9-6c2d-45b1-a0f5-32f7e27d64aa"
      },
      "source": [
        "pool_arr = pool.numpy()\n",
        "pool_arr.shape"
      ],
      "execution_count": 96,
      "outputs": [
        {
          "output_type": "execute_result",
          "data": {
            "text/plain": [
              "(1, 20, 12, 12)"
            ]
          },
          "metadata": {},
          "execution_count": 96
        }
      ]
    },
    {
      "cell_type": "code",
      "metadata": {
        "id": "6w8DQnNtlNCq",
        "colab": {
          "base_uri": "https://localhost:8080/",
          "height": 435
        },
        "outputId": "646fd656-321c-4c35-a57f-112faa6d8f35"
      },
      "source": [
        "plt.figure(figsize = (10, 15))\n",
        "\n",
        "plt.subplot(121)\n",
        "plt.title(\"input\")\n",
        "plt.imshow(input_image,'gray')\n",
        "\n",
        "\n",
        "plt.subplot(122)\n",
        "plt.title(\"Output\")\n",
        "plt.imshow(pool_arr[0, 0, :, :],'gray')\n",
        "\n",
        "plt.show()"
      ],
      "execution_count": 97,
      "outputs": [
        {
          "output_type": "display_data",
          "data": {
            "text/plain": [
              "<Figure size 1000x1500 with 2 Axes>"
            ],
            "image/png": "[encoded data removed]"
          },
          "metadata": {}
        }
      ]
    },
    {
      "cell_type": "markdown",
      "metadata": {
        "id": "q7RVioKwlbH1"
      },
      "source": [
        "### 선형 레이어(Linear layers)\n",
        "\n",
        "1d만 가능하므로 `.view()`를 통해 1d로 펼쳐줘야함"
      ]
    },
    {
      "cell_type": "code",
      "metadata": {
        "id": "_mYQy4I3lmAm",
        "colab": {
          "base_uri": "https://localhost:8080/"
        },
        "outputId": "2095302f-2944-43d6-d90e-2dd7c9f3168d"
      },
      "source": [
        "flatten = input_image.view(1,28 * 28)\n",
        "flatten.shape"
      ],
      "execution_count": 98,
      "outputs": [
        {
          "output_type": "execute_result",
          "data": {
            "text/plain": [
              "torch.Size([1, 784])"
            ]
          },
          "metadata": {},
          "execution_count": 98
        }
      ]
    },
    {
      "cell_type": "code",
      "metadata": {
        "id": "6wgSmY0Zlofk",
        "colab": {
          "base_uri": "https://localhost:8080/"
        },
        "outputId": "d5416958-36b7-4710-b9f0-31c7441b3df4"
      },
      "source": [
        "lin = nn.Linear(784, 10)(flatten)\n",
        "lin.shape"
      ],
      "execution_count": 99,
      "outputs": [
        {
          "output_type": "execute_result",
          "data": {
            "text/plain": [
              "torch.Size([1, 10])"
            ]
          },
          "metadata": {},
          "execution_count": 99
        }
      ]
    },
    {
      "cell_type": "code",
      "metadata": {
        "id": "LcJFqf0alsxr",
        "colab": {
          "base_uri": "https://localhost:8080/"
        },
        "outputId": "667e0bf0-6001-4aac-9e77-bb797ca5b411"
      },
      "source": [
        "lin"
      ],
      "execution_count": 100,
      "outputs": [
        {
          "output_type": "execute_result",
          "data": {
            "text/plain": [
              "tensor([[-0.3899,  0.0809,  0.6116, -0.0448,  0.0521,  0.2269, -0.1467, -0.5621,\n",
              "          0.4119, -0.3917]], grad_fn=<AddmmBackward0>)"
            ]
          },
          "metadata": {},
          "execution_count": 100
        }
      ]
    },
    {
      "cell_type": "code",
      "metadata": {
        "id": "ewEpebSVluHz",
        "colab": {
          "base_uri": "https://localhost:8080/",
          "height": 115
        },
        "outputId": "392f2b8b-1aa4-47cd-b360-4c0629ab1ae1"
      },
      "source": [
        "plt.imshow(lin.detach().numpy(),'jet')\n",
        "plt.colorbar\n",
        "plt.show()"
      ],
      "execution_count": 101,
      "outputs": [
        {
          "output_type": "display_data",
          "data": {
            "text/plain": [
              "<Figure size 640x480 with 1 Axes>"
            ],
            "image/png": "[encoded data removed]"
          },
          "metadata": {}
        }
      ]
    },
    {
      "cell_type": "markdown",
      "metadata": {
        "id": "0IjPKDKRl3CV"
      },
      "source": [
        "### 비선형 활성화 (Non-linear Activations)\n",
        "\n",
        "`F.softmax`와 같은 활성화 함수 등"
      ]
    },
    {
      "cell_type": "code",
      "metadata": {
        "id": "obhBb3O-lzbs",
        "colab": {
          "base_uri": "https://localhost:8080/"
        },
        "outputId": "dc1ea360-9d1e-44ac-bb9d-f11fd70a54f4"
      },
      "source": [
        "with torch.no_grad():\n",
        "    flatten = input_image.view(1,28 * 28)\n",
        "    lin = nn.Linear(784, 10)(flatten)\n",
        "    softmax = F.softmax(lin, dim = 1)\n",
        "\n",
        "softmax\n"
      ],
      "execution_count": 102,
      "outputs": [
        {
          "output_type": "execute_result",
          "data": {
            "text/plain": [
              "tensor([[0.1495, 0.0850, 0.1114, 0.1206, 0.1042, 0.0834, 0.1080, 0.1044, 0.0493,\n",
              "         0.0841]])"
            ]
          },
          "metadata": {},
          "execution_count": 102
        }
      ]
    },
    {
      "cell_type": "code",
      "metadata": {
        "id": "18ymFSRAmBo7",
        "colab": {
          "base_uri": "https://localhost:8080/"
        },
        "outputId": "79b9ddcc-233d-42d5-f028-c38710d19f71"
      },
      "source": [
        "np.sum(softmax.numpy())"
      ],
      "execution_count": 103,
      "outputs": [
        {
          "output_type": "execute_result",
          "data": {
            "text/plain": [
              "0.99999994"
            ]
          },
          "metadata": {},
          "execution_count": 103
        }
      ]
    },
    {
      "cell_type": "markdown",
      "metadata": {
        "id": "bYh13Bnj5wEN"
      },
      "source": [
        "`F.relu`\n",
        "\n",
        "- ReLU 함수를 적용하는 레이어\n",
        "- `nn.ReLU`로도 사용 가능"
      ]
    },
    {
      "cell_type": "code",
      "metadata": {
        "id": "D4VFePpR9_Ak",
        "colab": {
          "base_uri": "https://localhost:8080/"
        },
        "outputId": "7a0a96f1-81af-47e3-b1fa-a36366b70b55"
      },
      "source": [
        "inputs = torch.randn(4, 3, 28, 28).to(device)\n",
        "inputs.shape"
      ],
      "execution_count": 104,
      "outputs": [
        {
          "output_type": "execute_result",
          "data": {
            "text/plain": [
              "torch.Size([4, 3, 28, 28])"
            ]
          },
          "metadata": {},
          "execution_count": 104
        }
      ]
    },
    {
      "cell_type": "code",
      "metadata": {
        "id": "1lKlSiaY5wZW",
        "colab": {
          "base_uri": "https://localhost:8080/"
        },
        "outputId": "a5e9dbe7-29dc-4183-9cb9-e2425ca07737"
      },
      "source": [
        "layer = nn.Conv2d(3, 20, 5, 1).to(device)\n",
        "output = F.relu(layer(inputs))\n",
        "output.shape"
      ],
      "execution_count": 105,
      "outputs": [
        {
          "output_type": "execute_result",
          "data": {
            "text/plain": [
              "torch.Size([4, 20, 24, 24])"
            ]
          },
          "metadata": {},
          "execution_count": 105
        }
      ]
    },
    {
      "cell_type": "markdown",
      "source": [
        "### 신경망 종류"
      ],
      "metadata": {
        "id": "ztSbqvce2sCY"
      }
    },
    {
      "cell_type": "markdown",
      "source": [
        "## 모델 정의\n"
      ],
      "metadata": {
        "id": "S15SJDjqdu0O"
      }
    },
    {
      "cell_type": "markdown",
      "source": [
        "### `nn.Module` 상속 클래스 정의\n",
        "- `nn.Module`을 상속받는 클래스 정의\n",
        "- `__init__()`: 모델에서 사용될 모듈과 활성화 함수 등을 정의\n",
        "- `forward()`: 모델에서 실행되어야 하는 연산을 정의"
      ],
      "metadata": {
        "id": "Htl7QBbD5TQQ"
      }
    },
    {
      "cell_type": "code",
      "source": [
        "class Model(nn.Module):\n",
        "    def __init__(self, inputs):\n",
        "        super(Model,self).__init__()\n",
        "        self.layer = nn.Linear(inputs,1)\n",
        "        self.activation = nn.Sigmoid()\n",
        "\n",
        "    def forward(self, x):\n",
        "        x = self.layer(x)\n",
        "        x = self.activation(x)\n",
        "        return x"
      ],
      "metadata": {
        "id": "ZZlmLXARtD-b"
      },
      "execution_count": 106,
      "outputs": []
    },
    {
      "cell_type": "code",
      "source": [
        "model =Model(1)\n",
        "print(list(model.children()))\n",
        "print(list(model.modules()))"
      ],
      "metadata": {
        "id": "c343b7zMtvG2",
        "colab": {
          "base_uri": "https://localhost:8080/"
        },
        "outputId": "6c14148f-6257-46a2-89da-ed31bf1e70c0"
      },
      "execution_count": 107,
      "outputs": [
        {
          "output_type": "stream",
          "name": "stdout",
          "text": [
            "[Linear(in_features=1, out_features=1, bias=True), Sigmoid()]\n",
            "[Model(\n",
            "  (layer): Linear(in_features=1, out_features=1, bias=True)\n",
            "  (activation): Sigmoid()\n",
            "), Linear(in_features=1, out_features=1, bias=True), Sigmoid()]\n"
          ]
        }
      ]
    },
    {
      "cell_type": "markdown",
      "source": [
        "### `nn.Sequential`을 이용한 신경망 정의\n",
        "- `nn.Sequential` 객체로 그 안에 각 모듈을 순차적으로 실행\n",
        "- `__init__()`에서 사용할 네트워크 모델들을 `nn.Sequential`로 정의 가능\n",
        "- `forward()`에서 실행되어야 할 계산을 가독성 높게 작성 가능"
      ],
      "metadata": {
        "id": "7zt71U70uJ_V"
      }
    },
    {
      "cell_type": "code",
      "source": [
        "class Model(nn.Module):\n",
        "        def __init__(self):\n",
        "            super(Model,self).__init__()\n",
        "            self.layer1 = nn.Sequential(\n",
        "                nn.Conv2d(in_channels=3,out_channels=64,kernel_size=5),\n",
        "                nn.ReLU(inplace=True),\n",
        "                nn.MaxPool2d(2)\n",
        "            )\n",
        "\n",
        "            self.layer2 = nn.Sequential(\n",
        "                nn.Conv2d(in_channels=64,out_channels=30,kernel_size=5),\n",
        "                nn.ReLU(inplace=True),\n",
        "                nn.MaxPool2d(2)\n",
        "            )\n",
        "\n",
        "            self.layer3 = nn.Sequential(\n",
        "                nn.Linear(in_features=30*5*5,out_features=10,bias=True),\n",
        "                nn.ReLU(inplace=True),\n",
        "            )\n",
        "\n",
        "            def forward(self, x):\n",
        "                x = self.layer1(x)\n",
        "                x = self.layer2(x)\n",
        "                x = x.view(x.shape[0], -1)\n",
        "                x = self.layer3(x)\n",
        "                return x\n"
      ],
      "metadata": {
        "id": "OYDUzbxKu65r"
      },
      "execution_count": 108,
      "outputs": []
    },
    {
      "cell_type": "code",
      "source": [
        "model = Model()\n",
        "print(list(model.children()))\n",
        "print(list(model.modules()))"
      ],
      "metadata": {
        "id": "qSRl49H1u65r",
        "colab": {
          "base_uri": "https://localhost:8080/"
        },
        "outputId": "630022cb-187c-44ab-858f-eab0806df229"
      },
      "execution_count": 109,
      "outputs": [
        {
          "output_type": "stream",
          "name": "stdout",
          "text": [
            "[Sequential(\n",
            "  (0): Conv2d(3, 64, kernel_size=(5, 5), stride=(1, 1))\n",
            "  (1): ReLU(inplace=True)\n",
            "  (2): MaxPool2d(kernel_size=2, stride=2, padding=0, dilation=1, ceil_mode=False)\n",
            "), Sequential(\n",
            "  (0): Conv2d(64, 30, kernel_size=(5, 5), stride=(1, 1))\n",
            "  (1): ReLU(inplace=True)\n",
            "  (2): MaxPool2d(kernel_size=2, stride=2, padding=0, dilation=1, ceil_mode=False)\n",
            "), Sequential(\n",
            "  (0): Linear(in_features=750, out_features=10, bias=True)\n",
            "  (1): ReLU(inplace=True)\n",
            ")]\n",
            "[Model(\n",
            "  (layer1): Sequential(\n",
            "    (0): Conv2d(3, 64, kernel_size=(5, 5), stride=(1, 1))\n",
            "    (1): ReLU(inplace=True)\n",
            "    (2): MaxPool2d(kernel_size=2, stride=2, padding=0, dilation=1, ceil_mode=False)\n",
            "  )\n",
            "  (layer2): Sequential(\n",
            "    (0): Conv2d(64, 30, kernel_size=(5, 5), stride=(1, 1))\n",
            "    (1): ReLU(inplace=True)\n",
            "    (2): MaxPool2d(kernel_size=2, stride=2, padding=0, dilation=1, ceil_mode=False)\n",
            "  )\n",
            "  (layer3): Sequential(\n",
            "    (0): Linear(in_features=750, out_features=10, bias=True)\n",
            "    (1): ReLU(inplace=True)\n",
            "  )\n",
            "), Sequential(\n",
            "  (0): Conv2d(3, 64, kernel_size=(5, 5), stride=(1, 1))\n",
            "  (1): ReLU(inplace=True)\n",
            "  (2): MaxPool2d(kernel_size=2, stride=2, padding=0, dilation=1, ceil_mode=False)\n",
            "), Conv2d(3, 64, kernel_size=(5, 5), stride=(1, 1)), ReLU(inplace=True), MaxPool2d(kernel_size=2, stride=2, padding=0, dilation=1, ceil_mode=False), Sequential(\n",
            "  (0): Conv2d(64, 30, kernel_size=(5, 5), stride=(1, 1))\n",
            "  (1): ReLU(inplace=True)\n",
            "  (2): MaxPool2d(kernel_size=2, stride=2, padding=0, dilation=1, ceil_mode=False)\n",
            "), Conv2d(64, 30, kernel_size=(5, 5), stride=(1, 1)), ReLU(inplace=True), MaxPool2d(kernel_size=2, stride=2, padding=0, dilation=1, ceil_mode=False), Sequential(\n",
            "  (0): Linear(in_features=750, out_features=10, bias=True)\n",
            "  (1): ReLU(inplace=True)\n",
            "), Linear(in_features=750, out_features=10, bias=True), ReLU(inplace=True)]\n"
          ]
        }
      ]
    },
    {
      "cell_type": "markdown",
      "source": [
        "### 파이토치 사전학습 모델\n",
        "\n",
        "* https://pytorch.org/vision/stable/models.html"
      ],
      "metadata": {
        "id": "Oubzn_vw3C6b"
      }
    },
    {
      "cell_type": "markdown",
      "metadata": {
        "id": "0yuABl4h-yye"
      },
      "source": [
        "## 모델 파라미터\n"
      ]
    },
    {
      "cell_type": "markdown",
      "source": [
        "### 손실 함수(Loss function)\n",
        "\n",
        "* 예측 값과 실제 값 사이의 오차 측정\n",
        "* 학습이 진행되면서 해당 과정이 얼마나 잘 되고 있는지 나타내는 지표\n",
        "* 모델이 훈련되는 동안 최소화될 값으로 주어진 문제에 대한 성공 지표\n",
        "* 손실 함수에 따른 결과를 통해 학습 파라미터를 조정\n",
        "* 최적화 이론에서 최소화 하고자 하는 함수\n",
        "* 미분 가능한 함수 사용\n",
        "* 파이토치의 주요 손실 함수\n",
        "  - `torch.nn.BCELoss`: 이진 분류를 위해 사용\n",
        "  - `torch.nn.CrossEntropyLoss`: 다중 클래스 분류를 위해 사용\n",
        "  - `torch.nn.MSELoss`: 회귀 모델에서 사용"
      ],
      "metadata": {
        "id": "2EUJ4ZJqELiv"
      }
    },
    {
      "cell_type": "code",
      "source": [
        "criterion = nn.MSELoss()\n",
        "criterion = nn.CrossEntropyLoss()"
      ],
      "metadata": {
        "id": "uV2LCfc6O9Tk"
      },
      "execution_count": 110,
      "outputs": []
    },
    {
      "cell_type": "markdown",
      "source": [
        "### 옵티마이저(Optimizer)\n",
        "\n",
        "* 손실 함수를 기반으로 모델이 어떻게 업데이트되어야 하는지 결정 (특정 종류의 확률적 경사 하강법 구현)\n",
        "* optimizer는 `step()`을 통해 전달받은 파라미터를 모델 업데이트\n",
        "* 모든 옵티마이저의 기본으로 `torch.optim.Optimizer(params, defaults)` 클래스 사용\n",
        "* `zero_grad()`를 이용해 옵티마이저에 사용된 파라미터들의 기울기를 0으로 설정\n",
        "* `torch.optim.lr_scheduler`를 이용해 에포크(epochs)에 따라 학습률(learning rate) 조절\n",
        "* 파이토치의 주요 옵티마이저: `optim.Adadelta`, `optim.Adagrad`, `optim.Adam`, `optim.RMSprop`, `optim.SGD`"
      ],
      "metadata": {
        "id": "SNOk8dyWEF8O"
      }
    },
    {
      "cell_type": "markdown",
      "source": [
        "### 학습률 스케줄러(Learning rate scheduler)\n",
        "\n",
        "* 학습시 특정 조건에 따라 학습률을 조정하여 최적화 진행\n",
        "* 일정 횟수 이상이 되면 학습률을 감소(decay)시키거나 전역 최소점(global minimum) 근처에 가면 학습률을 줄이는 등\n",
        "* 파이토치의 학습률 스케줄러 종류\n",
        "  - `optim.lr_scheduler.LambdaLR`: 람다(lambda) 함수를 이용해 그 결과를 학습률로 설정\n",
        "  - `optim.lr_scheduler.StepLR`: 단계(step)마다 학습률을 감마(gamma) 비율만큼 감소\n",
        "  - `optim.lr_scheduler.MultiStepLR`: `StepLR`과 비슷하지만 특정 단계가 아니라 지정된 에포크에만 감마 비율로 감소\n",
        "  - `optim.lr_scheduler.ExponentialLR`: 에포크마다 이전 학습률에 감마만큼 곱함\n",
        "  - `optim.lr_scheduler.CosineAnnealingLR`: 학습률을 코사인(cosine) 함수의 형태처럼 변화시켜 학습률일 커지기도 하고 작아지기도 함\n",
        "  - `optim.lr_scheduler.ReduceLROnPlateau`: 학습이 잘되는지 아닌지에 따라 동적으로 학습률 변화"
      ],
      "metadata": {
        "id": "An4MW3nvRU0o"
      }
    },
    {
      "cell_type": "markdown",
      "source": [
        "### 지표(Metrics)\n",
        "\n",
        "* 모델의 학습과 테스트 단계를 모니터링"
      ],
      "metadata": {
        "id": "0Xl6nnl2hdr0"
      }
    },
    {
      "cell_type": "code",
      "source": [
        "!pip install torchmetrics"
      ],
      "metadata": {
        "id": "_VZX6rncldbX",
        "colab": {
          "base_uri": "https://localhost:8080/"
        },
        "outputId": "05ba28f3-11e4-4fb4-abb0-b5b247b22b4a"
      },
      "execution_count": 111,
      "outputs": [
        {
          "output_type": "stream",
          "name": "stdout",
          "text": [
            "Requirement already satisfied: torchmetrics in /usr/local/lib/python3.10/dist-packages (1.3.0)\n",
            "Requirement already satisfied: numpy>1.20.0 in /usr/local/lib/python3.10/dist-packages (from torchmetrics) (1.23.5)\n",
            "Requirement already satisfied: packaging>17.1 in /usr/local/lib/python3.10/dist-packages (from torchmetrics) (23.2)\n",
            "Requirement already satisfied: torch>=1.10.0 in /usr/local/lib/python3.10/dist-packages (from torchmetrics) (2.1.0+cu121)\n",
            "Requirement already satisfied: lightning-utilities>=0.8.0 in /usr/local/lib/python3.10/dist-packages (from torchmetrics) (0.10.0)\n",
            "Requirement already satisfied: setuptools in /usr/local/lib/python3.10/dist-packages (from lightning-utilities>=0.8.0->torchmetrics) (67.7.2)\n",
            "Requirement already satisfied: typing-extensions in /usr/local/lib/python3.10/dist-packages (from lightning-utilities>=0.8.0->torchmetrics) (4.5.0)\n",
            "Requirement already satisfied: filelock in /usr/local/lib/python3.10/dist-packages (from torch>=1.10.0->torchmetrics) (3.13.1)\n",
            "Requirement already satisfied: sympy in /usr/local/lib/python3.10/dist-packages (from torch>=1.10.0->torchmetrics) (1.12)\n",
            "Requirement already satisfied: networkx in /usr/local/lib/python3.10/dist-packages (from torch>=1.10.0->torchmetrics) (3.2.1)\n",
            "Requirement already satisfied: jinja2 in /usr/local/lib/python3.10/dist-packages (from torch>=1.10.0->torchmetrics) (3.1.3)\n",
            "Requirement already satisfied: fsspec in /usr/local/lib/python3.10/dist-packages (from torch>=1.10.0->torchmetrics) (2023.6.0)\n",
            "Requirement already satisfied: triton==2.1.0 in /usr/local/lib/python3.10/dist-packages (from torch>=1.10.0->torchmetrics) (2.1.0)\n",
            "Requirement already satisfied: MarkupSafe>=2.0 in /usr/local/lib/python3.10/dist-packages (from jinja2->torch>=1.10.0->torchmetrics) (2.1.3)\n",
            "Requirement already satisfied: mpmath>=0.19 in /usr/local/lib/python3.10/dist-packages (from sympy->torch>=1.10.0->torchmetrics) (1.3.0)\n"
          ]
        }
      ]
    },
    {
      "cell_type": "code",
      "source": [
        "import torchmetrics\n",
        "\n",
        "preds = torch.randn(10,5).softmax(dim=-1)\n",
        "target = torch.randint(5,(10,))\n",
        "print(preds, target)\n",
        "\n",
        "acc = torchmetrics.functional.accuracy(preds, target, task=\"multiclass\", num_classes=5)\n",
        "print(acc)"
      ],
      "metadata": {
        "id": "cZDfp2kwk42c",
        "colab": {
          "base_uri": "https://localhost:8080/"
        },
        "outputId": "2c976c41-fe1a-40b8-fb43-b9a74de38569"
      },
      "execution_count": 112,
      "outputs": [
        {
          "output_type": "stream",
          "name": "stdout",
          "text": [
            "tensor([[0.0263, 0.1400, 0.7405, 0.0357, 0.0574],\n",
            "        [0.0323, 0.0638, 0.6661, 0.0308, 0.2070],\n",
            "        [0.0256, 0.1747, 0.4977, 0.0539, 0.2480],\n",
            "        [0.1289, 0.4540, 0.1444, 0.2172, 0.0555],\n",
            "        [0.2314, 0.0884, 0.0803, 0.4883, 0.1116],\n",
            "        [0.2866, 0.0876, 0.2401, 0.0398, 0.3460],\n",
            "        [0.1094, 0.1313, 0.0306, 0.1533, 0.5755],\n",
            "        [0.0458, 0.4025, 0.0966, 0.2254, 0.2297],\n",
            "        [0.1119, 0.0518, 0.2288, 0.4743, 0.1332],\n",
            "        [0.1798, 0.1444, 0.2095, 0.2147, 0.2516]]) tensor([1, 4, 1, 1, 3, 4, 0, 0, 0, 2])\n",
            "tensor(0.3000)\n"
          ]
        }
      ]
    },
    {
      "cell_type": "code",
      "source": [
        "metric =  metric = torchmetrics.Accuracy(task=\"multiclass\", num_classes=5)\n",
        "\n",
        "n_batches = 10\n",
        "for i in range(n_batches):\n",
        "    preds = torch.randn(10, 5).softmax(dim=-1)\n",
        "    target = torch.randint(5,(10,))\n",
        "\n",
        "    acc = metric(preds, target)\n",
        "    print(acc)\n",
        "\n",
        "acc = metric.compute()\n",
        "print(acc)"
      ],
      "metadata": {
        "id": "5cQHBVJ9mAE0",
        "colab": {
          "base_uri": "https://localhost:8080/"
        },
        "outputId": "9a11660e-a284-4eb6-e1c9-aa808249793f"
      },
      "execution_count": 113,
      "outputs": [
        {
          "output_type": "stream",
          "name": "stdout",
          "text": [
            "tensor(0.3000)\n",
            "tensor(0.3000)\n",
            "tensor(0.2000)\n",
            "tensor(0.2000)\n",
            "tensor(0.2000)\n",
            "tensor(0.2000)\n",
            "tensor(0.1000)\n",
            "tensor(0.1000)\n",
            "tensor(0.)\n",
            "tensor(0.3000)\n",
            "tensor(0.1900)\n"
          ]
        }
      ]
    },
    {
      "cell_type": "markdown",
      "source": [
        "## 선형 회귀 모델(Linear Regression Model)"
      ],
      "metadata": {
        "id": "jlwMEoMKqbDU"
      }
    },
    {
      "cell_type": "markdown",
      "source": [
        "### 데이터 생성"
      ],
      "metadata": {
        "id": "tSDZeiFgrLES"
      }
    },
    {
      "cell_type": "code",
      "source": [
        "x = torch.randn(200,1) * 10\n",
        "y = x + 3 * torch.randn(200,1)\n",
        "plt.scatter (x.numpy(), y.numpy())\n",
        "plt.ylabel('y')\n",
        "plt.xlabel('x')\n"
      ],
      "metadata": {
        "id": "rvuFRjTIq0iC",
        "colab": {
          "base_uri": "https://localhost:8080/",
          "height": 471
        },
        "outputId": "e26ba4ae-793f-4255-9b0a-9acae17ca386"
      },
      "execution_count": 114,
      "outputs": [
        {
          "output_type": "execute_result",
          "data": {
            "text/plain": [
              "Text(0.5, 0, 'x')"
            ]
          },
          "metadata": {},
          "execution_count": 114
        },
        {
          "output_type": "display_data",
          "data": {
            "text/plain": [
              "<Figure size 640x480 with 1 Axes>"
            ],
            "image/png": "[encoded data removed]"
          },
          "metadata": {}
        }
      ]
    },
    {
      "cell_type": "markdown",
      "source": [
        "### 모델 정의 및 파라미터"
      ],
      "metadata": {
        "id": "v0Q-E-46rVA0"
      }
    },
    {
      "cell_type": "code",
      "source": [
        "class LinearRegressionModel(nn.Module):\n",
        "    def __init__(self):\n",
        "        super(LinearRegressionModel, self).__init__()\n",
        "        self.linear = nn.Linear(1, 1)\n",
        "\n",
        "    def forward(self, x):\n",
        "        pred = self.linear(x)\n",
        "        return pred\n"
      ],
      "metadata": {
        "id": "TOcdA-yVrOF2"
      },
      "execution_count": 115,
      "outputs": []
    },
    {
      "cell_type": "code",
      "source": [
        "model =  LinearRegressionModel()\n",
        "print(model)\n",
        "print(list(model.parameters()))"
      ],
      "metadata": {
        "id": "mWU343lurnRV",
        "colab": {
          "base_uri": "https://localhost:8080/"
        },
        "outputId": "18a5d3ea-184d-4d44-bf88-e8195c253f78"
      },
      "execution_count": 116,
      "outputs": [
        {
          "output_type": "stream",
          "name": "stdout",
          "text": [
            "LinearRegressionModel(\n",
            "  (linear): Linear(in_features=1, out_features=1, bias=True)\n",
            ")\n",
            "[Parameter containing:\n",
            "tensor([[0.3692]], requires_grad=True), Parameter containing:\n",
            "tensor([-0.2616], requires_grad=True)]\n"
          ]
        }
      ]
    },
    {
      "cell_type": "code",
      "source": [
        "w, b = model.parameters()\n",
        "\n",
        "w1, b1 = w[0][0].item(), b[0].item()\n",
        "x1 = np.array([-30, 30])\n",
        "y1 = w1 * x1 +b1\n",
        "\n",
        "plt.plot(x1, y1, 'r')\n",
        "plt.scatter(x,y)\n",
        "plt.grid()\n",
        "plt.show()"
      ],
      "metadata": {
        "id": "ZlD0py05rwo3",
        "colab": {
          "base_uri": "https://localhost:8080/",
          "height": 433
        },
        "outputId": "4be752d3-c5ec-4e85-9758-62d56f8e9812"
      },
      "execution_count": 117,
      "outputs": [
        {
          "output_type": "display_data",
          "data": {
            "text/plain": [
              "<Figure size 640x480 with 1 Axes>"
            ],
            "image/png": "[encoded data removed]"
          },
          "metadata": {}
        }
      ]
    },
    {
      "cell_type": "markdown",
      "source": [
        "### 손실 함수 및 옵티마이저"
      ],
      "metadata": {
        "id": "EifY0L0XshIJ"
      }
    },
    {
      "cell_type": "code",
      "source": [
        "import torch.optim as optim\n",
        "criterion = nn.MSELoss()\n",
        "optimizer = optim.SGD(model.parameters(),lr=0.001)"
      ],
      "metadata": {
        "id": "w5BQZIlWsFMa"
      },
      "execution_count": 118,
      "outputs": []
    },
    {
      "cell_type": "markdown",
      "source": [
        "### 모델 학습"
      ],
      "metadata": {
        "id": "xQLuvH2Yspje"
      }
    },
    {
      "cell_type": "code",
      "source": [
        "epochs = 100\n",
        "losses = []\n",
        "\n",
        "for epoch in range(epochs):\n",
        "    optimizer.zero_grad()\n",
        "\n",
        "    y_pred = model(x)\n",
        "    loss = criterion(y_pred,y)\n",
        "    losses.append(loss.item())\n",
        "    loss.backward()\n",
        "\n",
        "    optimizer.step()"
      ],
      "metadata": {
        "id": "ZpW3zOxfsq5l"
      },
      "execution_count": 119,
      "outputs": []
    },
    {
      "cell_type": "code",
      "source": [
        "plt.plot(range(epochs),losses)\n",
        "plt.ylabel('Loss')\n",
        "plt.xlabel('Epoch')\n",
        "plt.show()"
      ],
      "metadata": {
        "id": "cnC7rQuSs9RC",
        "colab": {
          "base_uri": "https://localhost:8080/",
          "height": 449
        },
        "outputId": "cded294f-2bef-4031-da73-000574aaee9a"
      },
      "execution_count": 120,
      "outputs": [
        {
          "output_type": "display_data",
          "data": {
            "text/plain": [
              "<Figure size 640x480 with 1 Axes>"
            ],
            "image/png": "[encoded data removed]"
          },
          "metadata": {}
        }
      ]
    },
    {
      "cell_type": "code",
      "source": [
        "w1, b1 = w[0][0].item(), b[0].item()\n",
        "x1 = np.array([-30, 30])\n",
        "y1 = w1 * x1 +b1\n",
        "\n",
        "plt.plot(x1, y1, 'r')\n",
        "plt.scatter(x,y)\n",
        "plt.grid()\n",
        "plt.show()"
      ],
      "metadata": {
        "id": "ktewuhRPtQyi",
        "colab": {
          "base_uri": "https://localhost:8080/",
          "height": 430
        },
        "outputId": "fe6cca9f-6f0c-4476-8412-95f584db505b"
      },
      "execution_count": 121,
      "outputs": [
        {
          "output_type": "display_data",
          "data": {
            "text/plain": [
              "<Figure size 640x480 with 1 Axes>"
            ],
            "image/png": "[encoded data removed]"
          },
          "metadata": {}
        }
      ]
    },
    {
      "cell_type": "markdown",
      "source": [
        "## FashionMNIST 분류 모델"
      ],
      "metadata": {
        "id": "2FKKOgbozBEt"
      }
    },
    {
      "cell_type": "markdown",
      "metadata": {
        "id": "02LdHlTTSz5L"
      },
      "source": [
        "GPU 설정"
      ]
    },
    {
      "cell_type": "code",
      "metadata": {
        "id": "HlPZI5wfDQhv",
        "colab": {
          "base_uri": "https://localhost:8080/"
        },
        "outputId": "358b5ec0-c502-47f7-b86f-6175beee13b7"
      },
      "source": [
        "device = torch.device('cuda' if torch.cuda.is_available() else 'cpu')\n",
        "device"
      ],
      "execution_count": 122,
      "outputs": [
        {
          "output_type": "execute_result",
          "data": {
            "text/plain": [
              "device(type='cuda')"
            ]
          },
          "metadata": {},
          "execution_count": 122
        }
      ]
    },
    {
      "cell_type": "markdown",
      "source": [
        "### 데이터 로드"
      ],
      "metadata": {
        "id": "bmVbeAgY0CYI"
      }
    },
    {
      "cell_type": "code",
      "source": [
        "transform = transforms.Compose([transforms.ToTensor(),\n",
        "                                transforms.Normalize((0.5,),(0.5, ))])"
      ],
      "metadata": {
        "id": "vYP9dGrWzDqd"
      },
      "execution_count": 123,
      "outputs": []
    },
    {
      "cell_type": "code",
      "source": [
        "trainset = datasets.FashionMNIST(root='/content/',\n",
        "                                 train  = True, download = True,\n",
        "                                 transform=transform)\n",
        "\n",
        "testset = datasets.FashionMNIST(root='/content/',\n",
        "                                 train = False, download = True,\n",
        "                                 transform=transform)"
      ],
      "metadata": {
        "id": "VpVsTevTWE5i"
      },
      "execution_count": 124,
      "outputs": []
    },
    {
      "cell_type": "code",
      "source": [
        "train_loader = DataLoader(trainset, batch_size=128,shuffle=True, num_workers=2)\n",
        "test_loader = DataLoader(trainset, batch_size=128,shuffle=True, num_workers=2)"
      ],
      "metadata": {
        "id": "Dz-CJf0x0nne"
      },
      "execution_count": 125,
      "outputs": []
    },
    {
      "cell_type": "code",
      "source": [
        "images, labels =  next(iter(train_loader))\n",
        "images.shape, labels.shape"
      ],
      "metadata": {
        "id": "iy6D1Rg_07fD",
        "colab": {
          "base_uri": "https://localhost:8080/"
        },
        "outputId": "28dfef28-854f-44df-f9f7-3c6f44b09c5f"
      },
      "execution_count": 126,
      "outputs": [
        {
          "output_type": "execute_result",
          "data": {
            "text/plain": [
              "(torch.Size([128, 1, 28, 28]), torch.Size([128]))"
            ]
          },
          "metadata": {},
          "execution_count": 126
        }
      ]
    },
    {
      "cell_type": "code",
      "source": [
        "labels_map = {\n",
        "    0: 'T-shirt',\n",
        "    1: 'Trouser',\n",
        "    2: 'Pullover',\n",
        "    3: 'Dress',\n",
        "    4: 'Coat',\n",
        "    5: 'Sandal',\n",
        "    6: 'Shirt',\n",
        "    7: 'Sneaker',\n",
        "    8: 'Bag',\n",
        "    9: 'Ankle Boot',\n",
        "}\n",
        "\n",
        "figure = plt.figure(figsize=(12,12))\n",
        "cols, rows = 4, 4\n",
        "for i in range(1,cols*rows+1):\n",
        "    image = images[i].squeeze()\n",
        "    label_idx = labels[i].item()\n",
        "    label = labels_map[label_idx]\n",
        "\n",
        "    figure.add_subplot(rows, cols, i)\n",
        "    plt.title(label)\n",
        "    plt.axis('off')\n",
        "    plt.imshow(image, cmap='gray')\n",
        "\n",
        "plt.show()\n",
        "\n"
      ],
      "metadata": {
        "id": "_u5_UEAH09SB",
        "colab": {
          "base_uri": "https://localhost:8080/",
          "height": 983
        },
        "outputId": "efe91b99-e2d0-4efb-98cc-e31e956206ef"
      },
      "execution_count": 127,
      "outputs": [
        {
          "output_type": "display_data",
          "data": {
            "text/plain": [
              "<Figure size 1200x1200 with 16 Axes>"
            ],
            "image/png": "[encoded data removed]"
          },
          "metadata": {}
        }
      ]
    },
    {
      "cell_type": "markdown",
      "source": [
        "### 모델 정의 및 파라미터"
      ],
      "metadata": {
        "id": "a1RU2q1d5JJx"
      }
    },
    {
      "cell_type": "code",
      "source": [
        "class NeuralNet(nn.Module):\n",
        "    def __init__(self):\n",
        "        super(NeuralNet, self).__init__()\n",
        "\n",
        "        self.conv1 = nn.Conv2d(1, 6, 3)\n",
        "        self.conv2 = nn.Conv2d(6, 16, 3)\n",
        "        self.fc1 = nn.Linear(16*5*5, 120)\n",
        "        self.fc2 = nn.Linear(120, 84)\n",
        "        self.fc3 = nn.Linear(84, 10)\n",
        "\n",
        "    def forward(self, x):\n",
        "        x = F.max_pool2d(F.relu(self.conv1(x)),(2,2))\n",
        "        x = F.max_pool2d(F.relu(self.conv2(x)), 2)\n",
        "        x = x.view(-1, self.num_flat_features(x))\n",
        "        x = F.relu(self.fc1(x))\n",
        "        x = F.relu(self.fc2(x))\n",
        "        x = self.fc3(x)\n",
        "\n",
        "        return x\n",
        "\n",
        "    def num_flat_features(self, x):\n",
        "        size = x.size()[1:]\n",
        "        num_features = 1\n",
        "        for s in size:\n",
        "            num_features *= s\n",
        "\n",
        "        return num_features\n",
        "\n",
        "net = NeuralNet()\n",
        "print(net)"
      ],
      "metadata": {
        "id": "vxafwtVv2sQS",
        "colab": {
          "base_uri": "https://localhost:8080/"
        },
        "outputId": "c6a949cc-0277-4c11-d4e1-ddb923354887"
      },
      "execution_count": 128,
      "outputs": [
        {
          "output_type": "stream",
          "name": "stdout",
          "text": [
            "NeuralNet(\n",
            "  (conv1): Conv2d(1, 6, kernel_size=(3, 3), stride=(1, 1))\n",
            "  (conv2): Conv2d(6, 16, kernel_size=(3, 3), stride=(1, 1))\n",
            "  (fc1): Linear(in_features=400, out_features=120, bias=True)\n",
            "  (fc2): Linear(in_features=120, out_features=84, bias=True)\n",
            "  (fc3): Linear(in_features=84, out_features=10, bias=True)\n",
            ")\n"
          ]
        }
      ]
    },
    {
      "cell_type": "code",
      "source": [
        "params = list(net.parameters())\n",
        "print(len(params))\n",
        "print(params[0].size())"
      ],
      "metadata": {
        "id": "RtpvuDyg5Vib",
        "colab": {
          "base_uri": "https://localhost:8080/"
        },
        "outputId": "e235f283-1e22-4942-da52-ce8bcbaa0287"
      },
      "execution_count": 129,
      "outputs": [
        {
          "output_type": "stream",
          "name": "stdout",
          "text": [
            "10\n",
            "torch.Size([6, 1, 3, 3])\n"
          ]
        }
      ]
    },
    {
      "cell_type": "code",
      "source": [
        "input = torch.randn(1,1,28,28)\n",
        "out = net(input)\n",
        "print(out)"
      ],
      "metadata": {
        "id": "_Nz0RPgG5Yat",
        "colab": {
          "base_uri": "https://localhost:8080/"
        },
        "outputId": "05829a09-c66f-460a-89ff-5429ec8ad77a"
      },
      "execution_count": 130,
      "outputs": [
        {
          "output_type": "stream",
          "name": "stdout",
          "text": [
            "tensor([[-0.0010, -0.0815,  0.1393, -0.1153,  0.0671,  0.0018, -0.1314, -0.0548,\n",
            "          0.0106,  0.0870]], grad_fn=<AddmmBackward0>)\n"
          ]
        }
      ]
    },
    {
      "cell_type": "markdown",
      "metadata": {
        "id": "hFAKDY87FRuu"
      },
      "source": [
        "### 손실함수와 옵티마이저"
      ]
    },
    {
      "cell_type": "code",
      "metadata": {
        "id": "XHGAenL0Fu7R"
      },
      "source": [
        "criterion = nn.CrossEntropyLoss()\n",
        "optimizer = optim.SGD(net.parameters(), lr=0.001, momentum=0.9)"
      ],
      "execution_count": 131,
      "outputs": []
    },
    {
      "cell_type": "markdown",
      "metadata": {
        "id": "NV5_xdUsGB1x"
      },
      "source": [
        "### 모델 학습"
      ]
    },
    {
      "cell_type": "markdown",
      "metadata": {
        "id": "rBIYk0aTGEPW"
      },
      "source": [
        "배치수 확인"
      ]
    },
    {
      "cell_type": "code",
      "metadata": {
        "id": "qax43PdgDQBk",
        "colab": {
          "base_uri": "https://localhost:8080/"
        },
        "outputId": "2a7c27e1-4657-4029-c0d8-57e16d83d926"
      },
      "source": [
        "total_batch = len(train_loader)\n",
        "print(total_batch)"
      ],
      "execution_count": 132,
      "outputs": [
        {
          "output_type": "stream",
          "name": "stdout",
          "text": [
            "469\n"
          ]
        }
      ]
    },
    {
      "cell_type": "code",
      "metadata": {
        "id": "NzwisgcADQOD",
        "colab": {
          "base_uri": "https://localhost:8080/"
        },
        "outputId": "acaef2d7-0347-41e0-dcc5-753f633a0369"
      },
      "source": [
        "for epoch in range(10):\n",
        "    running_loss = 0.0\n",
        "\n",
        "    for i, data in enumerate(train_loader):\n",
        "        inputs, labels = data\n",
        "\n",
        "        optimizer.zero_grad()\n",
        "\n",
        "        outputs = net(inputs)\n",
        "        loss = criterion(outputs, labels)\n",
        "        loss.backward()\n",
        "        optimizer.step()\n",
        "\n",
        "        running_loss += loss.item()\n",
        "\n",
        "        if i % 100 == 99:\n",
        "            print(\"Epoch: {}, iter: {}, Loss: {}\".format(epoch+1,i+1,running_loss/2000))\n",
        "            running_loss = 0.0"
      ],
      "execution_count": 133,
      "outputs": [
        {
          "output_type": "stream",
          "name": "stdout",
          "text": [
            "Epoch: 1, iter: 100, Loss: 0.11504040169715882\n",
            "Epoch: 1, iter: 200, Loss: 0.11443792283535004\n",
            "Epoch: 1, iter: 300, Loss: 0.11376023280620574\n",
            "Epoch: 1, iter: 400, Loss: 0.11243605160713196\n",
            "Epoch: 2, iter: 100, Loss: 0.10245433801412582\n",
            "Epoch: 2, iter: 200, Loss: 0.08087904703617096\n",
            "Epoch: 2, iter: 300, Loss: 0.05588325950503349\n",
            "Epoch: 2, iter: 400, Loss: 0.04355904939770699\n",
            "Epoch: 3, iter: 100, Loss: 0.03691407364606857\n",
            "Epoch: 3, iter: 200, Loss: 0.036055927246809005\n",
            "Epoch: 3, iter: 300, Loss: 0.03419788259267807\n",
            "Epoch: 3, iter: 400, Loss: 0.03345354922115803\n",
            "Epoch: 4, iter: 100, Loss: 0.03148976442217827\n",
            "Epoch: 4, iter: 200, Loss: 0.03172913332283497\n",
            "Epoch: 4, iter: 300, Loss: 0.03018915219604969\n",
            "Epoch: 4, iter: 400, Loss: 0.029928428769111632\n",
            "Epoch: 5, iter: 100, Loss: 0.029580900833010675\n",
            "Epoch: 5, iter: 200, Loss: 0.028950919032096862\n",
            "Epoch: 5, iter: 300, Loss: 0.02820333456993103\n",
            "Epoch: 5, iter: 400, Loss: 0.028480743169784547\n",
            "Epoch: 6, iter: 100, Loss: 0.027089654952287674\n",
            "Epoch: 6, iter: 200, Loss: 0.027287118420004846\n",
            "Epoch: 6, iter: 300, Loss: 0.02647535154223442\n",
            "Epoch: 6, iter: 400, Loss: 0.026972378104925157\n",
            "Epoch: 7, iter: 100, Loss: 0.026099003955721855\n",
            "Epoch: 7, iter: 200, Loss: 0.02603776839375496\n",
            "Epoch: 7, iter: 300, Loss: 0.02638166719675064\n",
            "Epoch: 7, iter: 400, Loss: 0.024986365869641303\n",
            "Epoch: 8, iter: 100, Loss: 0.02523058845102787\n",
            "Epoch: 8, iter: 200, Loss: 0.025433200538158417\n",
            "Epoch: 8, iter: 300, Loss: 0.02456602893769741\n",
            "Epoch: 8, iter: 400, Loss: 0.024286364391446113\n",
            "Epoch: 9, iter: 100, Loss: 0.024374450996518134\n",
            "Epoch: 9, iter: 200, Loss: 0.02462051783502102\n",
            "Epoch: 9, iter: 300, Loss: 0.024110715717077257\n",
            "Epoch: 9, iter: 400, Loss: 0.02375270187854767\n",
            "Epoch: 10, iter: 100, Loss: 0.02304063951969147\n",
            "Epoch: 10, iter: 200, Loss: 0.02277980387210846\n",
            "Epoch: 10, iter: 300, Loss: 0.02325064854323864\n",
            "Epoch: 10, iter: 400, Loss: 0.023191701248288156\n"
          ]
        }
      ]
    },
    {
      "cell_type": "markdown",
      "metadata": {
        "id": "tumNqvreIMUC"
      },
      "source": [
        "### 모델의 저장 및 로드\n",
        "\n",
        "- `torch.save`: `net.state_dict()`를 저장\n",
        "- `torch.load`: `load_state_dict`로 모델을 로드"
      ]
    },
    {
      "cell_type": "code",
      "metadata": {
        "id": "lxj4a7oHDQRR"
      },
      "source": [
        "PATH = './fashion_mist.pth'\n",
        "torch.save(net.state_dict(), PATH)"
      ],
      "execution_count": 134,
      "outputs": []
    },
    {
      "cell_type": "code",
      "metadata": {
        "id": "9GqVJlGzDQTe",
        "colab": {
          "base_uri": "https://localhost:8080/"
        },
        "outputId": "6f1a7eed-c06a-4204-a655-bd6c0ca1a3da"
      },
      "source": [
        "net = NeuralNet()\n",
        "net.load_state_dict(torch.load(PATH))"
      ],
      "execution_count": 135,
      "outputs": [
        {
          "output_type": "execute_result",
          "data": {
            "text/plain": [
              "<All keys matched successfully>"
            ]
          },
          "metadata": {},
          "execution_count": 135
        }
      ]
    },
    {
      "cell_type": "code",
      "metadata": {
        "id": "15cyBDq0DQV2",
        "colab": {
          "base_uri": "https://localhost:8080/"
        },
        "outputId": "e523e3d8-52be-4376-96df-d575730f9ef6"
      },
      "source": [
        "net.parameters"
      ],
      "execution_count": 136,
      "outputs": [
        {
          "output_type": "execute_result",
          "data": {
            "text/plain": [
              "<bound method Module.parameters of NeuralNet(\n",
              "  (conv1): Conv2d(1, 6, kernel_size=(3, 3), stride=(1, 1))\n",
              "  (conv2): Conv2d(6, 16, kernel_size=(3, 3), stride=(1, 1))\n",
              "  (fc1): Linear(in_features=400, out_features=120, bias=True)\n",
              "  (fc2): Linear(in_features=120, out_features=84, bias=True)\n",
              "  (fc3): Linear(in_features=84, out_features=10, bias=True)\n",
              ")>"
            ]
          },
          "metadata": {},
          "execution_count": 136
        }
      ]
    },
    {
      "cell_type": "markdown",
      "metadata": {
        "id": "5IecfHZiI09W"
      },
      "source": [
        "### 모델 테스트"
      ]
    },
    {
      "cell_type": "code",
      "source": [
        "def imshow(image):\n",
        "    image = image / 2 + 0.5\n",
        "    npimg = image.numpy()\n",
        "\n",
        "    fig = plt.figure(figsize = (16, 8))\n",
        "    plt.imshow(np.transpose(npimg, (1, 2, 0)))\n",
        "    plt.show()\n"
      ],
      "metadata": {
        "id": "9OmM9p4J6pu8"
      },
      "execution_count": 137,
      "outputs": []
    },
    {
      "cell_type": "code",
      "metadata": {
        "id": "QewXif2NDQYZ",
        "colab": {
          "base_uri": "https://localhost:8080/",
          "height": 280
        },
        "outputId": "6819b268-eb24-4014-acdd-1388da5d994c"
      },
      "source": [
        "import torchvision\n",
        "\n",
        "dataiter = iter(test_loader)\n",
        "images, labels = next(dataiter)\n",
        "\n",
        "imshow(torchvision.utils.make_grid(images[:6]))"
      ],
      "execution_count": 138,
      "outputs": [
        {
          "output_type": "display_data",
          "data": {
            "text/plain": [
              "<Figure size 1600x800 with 1 Axes>"
            ],
            "image/png": "[encoded data removed]"
          },
          "metadata": {}
        }
      ]
    },
    {
      "cell_type": "code",
      "metadata": {
        "id": "9yaMMa8VDQdI",
        "colab": {
          "base_uri": "https://localhost:8080/"
        },
        "outputId": "84c13e07-a1f0-432f-df49-8cdc67aabba5"
      },
      "source": [
        "outputs = net(images)\n",
        "\n",
        "_, predicted = torch.max(outputs, 1)\n",
        "print(predicted)"
      ],
      "execution_count": 139,
      "outputs": [
        {
          "output_type": "stream",
          "name": "stdout",
          "text": [
            "tensor([4, 7, 7, 1, 7, 2, 7, 4, 4, 9, 5, 9, 4, 7, 4, 3, 4, 2, 4, 1, 7, 7, 7, 7,\n",
            "        4, 5, 9, 3, 8, 3, 2, 7, 2, 1, 1, 4, 7, 6, 5, 4, 2, 2, 4, 1, 8, 1, 8, 6,\n",
            "        4, 5, 2, 7, 9, 9, 1, 2, 9, 4, 5, 2, 7, 8, 7, 2, 8, 3, 1, 7, 4, 5, 0, 2,\n",
            "        1, 1, 7, 2, 5, 6, 7, 7, 5, 4, 2, 8, 4, 6, 8, 4, 8, 9, 4, 6, 8, 1, 4, 5,\n",
            "        0, 9, 8, 2, 7, 4, 9, 2, 4, 8, 8, 2, 7, 0, 1, 4, 3, 4, 9, 7, 9, 5, 8, 0,\n",
            "        4, 5, 2, 4, 5, 0, 1, 5])\n"
          ]
        }
      ]
    },
    {
      "cell_type": "code",
      "metadata": {
        "id": "qOQWilyPOja5",
        "colab": {
          "base_uri": "https://localhost:8080/"
        },
        "outputId": "fc48a5bf-6aa5-4f79-fd27-a57aa0385197"
      },
      "source": [
        "print(''.join('{}. '.format(labels_map[int(predicted[j].numpy())]) for j in range(6)))"
      ],
      "execution_count": 140,
      "outputs": [
        {
          "output_type": "stream",
          "name": "stdout",
          "text": [
            "Coat. Sneaker. Sneaker. Trouser. Sneaker. Pullover. \n"
          ]
        }
      ]
    },
    {
      "cell_type": "code",
      "metadata": {
        "id": "T1qsc9TUDQfk",
        "colab": {
          "base_uri": "https://localhost:8080/"
        },
        "outputId": "f7afdf71-c98e-4063-ffdf-0aca922e0082"
      },
      "source": [
        "correct = 0\n",
        "total = 0\n",
        "\n",
        "with torch.no_grad():\n",
        "    for data in test_loader:\n",
        "        outputs = net(images)\n",
        "        _, predicted = torch.max(outputs.data, 1)\n",
        "        total += labels.size(0)\n",
        "        correct += (predicted == labels).sum().item()\n",
        "\n",
        "print(100 * correct / total)\n"
      ],
      "execution_count": 141,
      "outputs": [
        {
          "output_type": "stream",
          "name": "stdout",
          "text": [
            "82.8125\n"
          ]
        }
      ]
    }
  ]
}