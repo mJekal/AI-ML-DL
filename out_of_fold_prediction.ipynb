{
  "nbformat": 4,
  "nbformat_minor": 0,
  "metadata": {
    "kernelspec": {
      "display_name": "Python 3",
      "language": "python",
      "name": "python3"
    },
    "language_info": {
      "codemirror_mode": {
        "name": "ipython",
        "version": 3
      },
      "file_extension": ".py",
      "mimetype": "text/x-python",
      "name": "python",
      "nbconvert_exporter": "python",
      "pygments_lexer": "ipython3",
      "version": "3.8.3"
    },
    "colab": {
      "provenance": [],
      "include_colab_link": true
    }
  },
  "cells": [
    {
      "cell_type": "markdown",
      "metadata": {
        "id": "view-in-github",
        "colab_type": "text"
      },
      "source": [
        "<a href=\"https://colab.research.google.com/github/mJekal/PyTorch_study/blob/main/out_of_fold_prediction.ipynb\" target=\"_parent\"><img src=\"https://colab.research.google.com/assets/colab-badge.svg\" alt=\"Open In Colab\"/></a>"
      ]
    },
    {
      "cell_type": "code",
      "metadata": {
        "id": "RDAo4NwLCeWv"
      },
      "source": [
        "from sklearn.model_selection import KFold\n",
        "\n",
        "def train_apps_all_with_oof(apps_all_train, apps_all_test, nfolds=5):\n",
        "    ftr_app = apps_all_train.drop(['SK_ID_CURR', 'TARGET'], axis=1)\n",
        "    target_app = apps_all_train['TARGET']\n",
        "\n",
        "    folds = KFold(n_splits=nfolds, shuffle=True, random_state=2020)\n",
        "\n",
        "    oof_preds = np.zeros(ftr_app.shape[0])\n",
        "\n",
        "    test_preds = np.zeros(apps_all_test.shape[0])\n",
        "\n",
        "    clf = LGBMClassifier(\n",
        "                nthread=4,\n",
        "                n_estimators=4000,\n",
        "                learning_rate=0.01,\n",
        "                max_depth = 11,\n",
        "                num_leaves=58,\n",
        "                colsample_bytree=0.613,\n",
        "                subsample=0.708,\n",
        "                max_bin=407,\n",
        "                reg_alpha=3.564,\n",
        "                reg_lambda=4.930,\n",
        "                min_child_weight= 6,\n",
        "                min_child_samples=165,\n",
        "                silent=-1,\n",
        "                verbose=-1,\n",
        "                )\n",
        "\n",
        "    for fold_idx, (train_idx, valid_idx) in enumerate(folds.split(ftr_app)):\n",
        "        print('##### iteration ', fold_idx, ' 시작')\n",
        "        train_x  = ftr_app.iloc[train_idx, :]\n",
        "        train_y = target_app.iloc[train_idx]\n",
        "        valid_x = ftr_app.iloc[valid_idx, :]\n",
        "        valid_y = target_app.iloc[valid_idx]\n",
        "\n",
        "        clf.fit(train_x, train_y, eval_set=[(train_x, train_y), (valid_x, valid_y)], eval_metric= 'auc', verbose= 200,\n",
        "                early_stopping_rounds= 200)\n",
        "        oof_preds[valid_idx] = clf.predict_proba(valid_x, num_iteration=clf.best_iteration_)[:, 1]\n",
        "        test_preds += clf.predict_proba(apps_all_test.drop('SK_ID_CURR', axis=1), num_iteration=clf.best_iteration_)[:, 1]/folds.n_splits\n",
        "\n",
        "\n",
        "    return clf, test_preds"
      ],
      "execution_count": null,
      "outputs": []
    },
    {
      "cell_type": "code",
      "source": [
        "clf, test_preds = train_apps_all_with_oof(apps_all_train, apps_all_test, nfolds=5)"
      ],
      "metadata": {
        "id": "AS32phpZs8Rl"
      },
      "execution_count": null,
      "outputs": []
    }
  ]
}