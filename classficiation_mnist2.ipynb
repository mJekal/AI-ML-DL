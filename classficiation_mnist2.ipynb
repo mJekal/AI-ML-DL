{
  "nbformat": 4,
  "nbformat_minor": 0,
  "metadata": {
    "colab": {
      "provenance": [],
      "authorship_tag": "ABX9TyPN82ZtiqqAYQ90IlW6iRyr",
      "include_colab_link": true
    },
    "kernelspec": {
      "name": "python3",
      "display_name": "Python 3"
    },
    "language_info": {
      "name": "python"
    }
  },
  "cells": [
    {
      "cell_type": "markdown",
      "metadata": {
        "id": "view-in-github",
        "colab_type": "text"
      },
      "source": [
        "<a href=\"https://colab.research.google.com/github/mJekal/PyTorch_study/blob/main/classficiation_mnist2.ipynb\" target=\"_parent\"><img src=\"https://colab.research.google.com/assets/colab-badge.svg\" alt=\"Open In Colab\"/></a>"
      ]
    },
    {
      "cell_type": "code",
      "execution_count": 1,
      "metadata": {
        "colab": {
          "base_uri": "https://localhost:8080/"
        },
        "id": "DCjilgeTFr-Z",
        "outputId": "87f90d61-049a-41dd-b8d7-05cade930705"
      },
      "outputs": [
        {
          "output_type": "stream",
          "name": "stdout",
          "text": [
            "Drive already mounted at /content/drive; to attempt to forcibly remount, call drive.mount(\"/content/drive\", force_remount=True).\n",
            "cpu\n"
          ]
        }
      ],
      "source": [
        "from google.colab import drive\n",
        "drive.mount('/content/drive')\n",
        "import torch\n",
        "from torchvision import datasets, transforms\n",
        "import matplotlib.pyplot as plt\n",
        "from torch import nn, optim\n",
        "DEVICE = \"cuda\" if torch.cuda.is_available() else \"cpu\"\n",
        "print(DEVICE)"
      ]
    },
    {
      "cell_type": "code",
      "source": [
        "BATCH_SIZE = 32\n",
        "LR = 1e-3\n",
        "EPOCH = 5\n",
        "criterion = nn.CrossEntropyLoss()\n",
        "model_train = True\n",
        "model_Tpye = \"MLP\"\n",
        "dataset = \"MNIST\"\n",
        "save_model_path = f\"/content/drive/MyDrive/Colab Notebooks/results/{model_Tpye}_{dataset}.pt\""
      ],
      "metadata": {
        "id": "ByIgVTO7JEMc"
      },
      "execution_count": 2,
      "outputs": []
    },
    {
      "cell_type": "code",
      "source": [
        "transform = transforms.ToTensor()\n",
        "train_DS = datasets.MNIST(root = '/content/drive/MyDrive/Colab Notebooks/data', train=True, download=True, transform=transform)\n",
        "test_DS = datasets.MNIST(root = '/content/drive/MyDrive/Colab Notebooks/data', train=False, download=True, transform=transform)\n",
        "train_DL = torch.utils.data.DataLoader(train_DS, batch_size = BATCH_SIZE, shuffle=True)\n",
        "test_DL = torch.utils.data.DataLoader(test_DS, batch_size=BATCH_SIZE,shuffle=True)"
      ],
      "metadata": {
        "id": "Dj0BxesVF-f9"
      },
      "execution_count": 3,
      "outputs": []
    },
    {
      "cell_type": "code",
      "source": [
        "class MLP(nn.Module):\n",
        "    def __init__(self):\n",
        "        super().__init__()\n",
        "\n",
        "        self.linear = nn.Sequential(nn.Linear(28*28, 100),\n",
        "                                    nn.ReLU(),\n",
        "                                    nn.Linear(100,10))\n",
        "\n",
        "    def forward(self, x):\n",
        "        x = torch.flatten(x, start_dim=1)\n",
        "        x = self.linear(x)\n",
        "        return x"
      ],
      "metadata": {
        "id": "xKRVvCPfGIqD"
      },
      "execution_count": 4,
      "outputs": []
    },
    {
      "cell_type": "code",
      "source": [
        "def Train(model, train_DL, criterion, optimizer):\n",
        "\n",
        "    loss_history =[]\n",
        "    Len = len(train_DL.dataset)\n",
        "\n",
        "    model.train()\n",
        "    for ep in range(EPOCH):\n",
        "        running_loss = 0\n",
        "        for x_batch, y_batch in train_DL:\n",
        "            x_batch = x_batch.to(DEVICE)\n",
        "            y_batch = y_batch.to(DEVICE)\n",
        "\n",
        "            q = model(x_batch)\n",
        "\n",
        "            loss = criterion(q, y_batch)\n",
        "\n",
        "            optimizer.zero_grad()\n",
        "            loss.backward()\n",
        "            optimizer.step()\n",
        "\n",
        "            loss_batch = loss.item() * x_batch.shape[0]\n",
        "            running_loss += loss_batch\n",
        "\n",
        "        loss_e = running_loss/Len\n",
        "        loss_history += [loss_e]\n",
        "        print(f\"Epoch: {ep+1}: train loss: {round(loss_e,3)}\")\n",
        "\n",
        "    return loss_history\n",
        "\n",
        "def Test(model, test_DL):\n",
        "    model.eval()\n",
        "    with torch.no_grad():\n",
        "        running_correct = 0\n",
        "        for x_batch, y_batch in test_DL:\n",
        "            x_batch = x_batch.to(DEVICE)\n",
        "            y_batch = y_batch.to(DEVICE)\n",
        "\n",
        "            q = model(x_batch)\n",
        "\n",
        "            pred = q.argmax(dim=1)\n",
        "            corrects_batch = torch.sum(pred == y_batch).item()\n",
        "            running_correct += corrects_batch\n",
        "        accuracy_e = running_correct/len(test_DL.dataset)*100\n",
        "    print(f\"Test accuracy: {running_correct}/{len(test_DL.dataset)} ({round(accuracy_e,1)} %)\")\n",
        "\n",
        "def Test_plot(model, test_DL):\n",
        "    model.eval()\n",
        "    with torch.no_grad():\n",
        "        x_batch, y_batch = next(iter(test_DL))\n",
        "        x_batch = x_batch.to(DEVICE)\n",
        "        q = model(x_batch)\n",
        "        pred = q.argmax(dim=1)\n",
        "\n",
        "    x_batch = x_batch.to(\"cpu\")\n",
        "\n",
        "    plt.figure(figsize=(8,4))\n",
        "    for idx in range(6):\n",
        "        plt.subplot(2,3, idx+1, xticks=[], yticks=[])\n",
        "        plt.imshow(x_batch[idx].permute(1,2,0).squeeze(), cmap=\"gray\")\n",
        "        pred_class = test_DL.dataset.classes[pred[idx]]\n",
        "        true_class = test_DL.dataset.classes[y_batch[idx]]\n",
        "        plt.title(f\"{pred_class} ({true_class})\", color = \"g\" if pred_class==true_class else \"r\")\n",
        "\n",
        "def count_params(model):\n",
        "    num = sum([p.numel() for p in model.parameters() if p.requires_grad])\n",
        "    return num"
      ],
      "metadata": {
        "id": "keFPjZlCGP97"
      },
      "execution_count": 5,
      "outputs": []
    },
    {
      "cell_type": "code",
      "source": [
        "exec(f\"model = {model_Tpye}().to(DEVICE)\")\n",
        "print(model)\n",
        "x_batch, _ = next(iter(train_DL))\n",
        "print(model(x_batch.to(DEVICE)).shape)"
      ],
      "metadata": {
        "colab": {
          "base_uri": "https://localhost:8080/"
        },
        "id": "GGIcHmGWGOaB",
        "outputId": "0ccb67fa-d9a4-40c5-8015-69ed4364af6a"
      },
      "execution_count": 6,
      "outputs": [
        {
          "output_type": "stream",
          "name": "stdout",
          "text": [
            "MLP(\n",
            "  (linear): Sequential(\n",
            "    (0): Linear(in_features=784, out_features=100, bias=True)\n",
            "    (1): ReLU()\n",
            "    (2): Linear(in_features=100, out_features=10, bias=True)\n",
            "  )\n",
            ")\n",
            "torch.Size([32, 10])\n"
          ]
        }
      ]
    },
    {
      "cell_type": "code",
      "source": [
        "if model_train:\n",
        "    optimizer = optim.Adam(model.parameters(), lr=LR)\n",
        "    loss_history = Train(model, train_DL, criterion, optimizer)\n",
        "\n",
        "    torch.save(model, save_model_path)\n",
        "\n",
        "    plt.plot(range(1,EPOCH+1),loss_history)\n",
        "    plt.xlabel('Epoch')\n",
        "    plt.ylabel('loss')\n",
        "    plt.title(\"Train Loss\")\n",
        "    plt.grid()"
      ],
      "metadata": {
        "colab": {
          "base_uri": "https://localhost:8080/",
          "height": 563
        },
        "id": "awucL8biGgnO",
        "outputId": "e73a5e52-25c0-468a-912b-4de382541d72"
      },
      "execution_count": 7,
      "outputs": [
        {
          "output_type": "stream",
          "name": "stdout",
          "text": [
            "Epoch: 1: train loss: 0.311\n",
            "Epoch: 2: train loss: 0.144\n",
            "Epoch: 3: train loss: 0.099\n",
            "Epoch: 4: train loss: 0.075\n",
            "Epoch: 5: train loss: 0.059\n"
          ]
        },
        {
          "output_type": "display_data",
          "data": {
            "text/plain": [
              "<Figure size 640x480 with 1 Axes>"
            ],
            "image/png": "[encoded data removed]"
          },
          "metadata": {}
        }
      ]
    },
    {
      "cell_type": "code",
      "source": [
        "load_model = torch.load(save_model_path, map_location=DEVICE)"
      ],
      "metadata": {
        "id": "MeRyx1KLKs5m"
      },
      "execution_count": 8,
      "outputs": []
    },
    {
      "cell_type": "code",
      "source": [
        "Test(load_model, test_DL)\n",
        "print(count_params(load_model))"
      ],
      "metadata": {
        "colab": {
          "base_uri": "https://localhost:8080/"
        },
        "id": "n1OKvJ7MKz1H",
        "outputId": "6056fe81-7aa1-4dfa-ca4f-1009464c730e"
      },
      "execution_count": 9,
      "outputs": [
        {
          "output_type": "stream",
          "name": "stdout",
          "text": [
            "Test accuracy: 9743/10000 (97.4 %)\n",
            "79510\n"
          ]
        }
      ]
    },
    {
      "cell_type": "code",
      "source": [
        "Test_plot(load_model, test_DL)"
      ],
      "metadata": {
        "colab": {
          "base_uri": "https://localhost:8080/",
          "height": 367
        },
        "id": "whJ7ck-fcfpz",
        "outputId": "bb873ed3-9e35-45ed-edb2-ecdcf9e94e42"
      },
      "execution_count": 10,
      "outputs": [
        {
          "output_type": "display_data",
          "data": {
            "text/plain": [
              "<Figure size 800x400 with 6 Axes>"
            ],
            "image/png": "[encoded data removed]"
          },
          "metadata": {}
        }
      ]
    }
  ]
}